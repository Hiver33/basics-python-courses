{
 "cells": [
  {
   "cell_type": "markdown",
   "id": "3f62f5ee-9ec2-49ec-8caa-47b63c91d6e7",
   "metadata": {},
   "source": [
    "# Chapitre 1 : Généralités"
   ]
  },
  {
   "cell_type": "markdown",
   "id": "120ec6cc-5e07-4471-bde0-96bbfe3d2e14",
   "metadata": {},
   "source": [
    "## I- Introduction"
   ]
  },
  {
   "cell_type": "markdown",
   "id": "d6a05584-d86a-4ff2-b1ef-76444a93c4bb",
   "metadata": {},
   "source": [
    "Prise en main du langage Python"
   ]
  },
  {
   "cell_type": "code",
   "execution_count": 3,
   "id": "7f33a0fe-dd89-4204-8ee3-8a9c15245a56",
   "metadata": {},
   "outputs": [
    {
     "data": {
      "text/plain": [
       "'Hello word'"
      ]
     },
     "execution_count": 3,
     "metadata": {},
     "output_type": "execute_result"
    }
   ],
   "source": [
    "# ceci est un test de code 'Hello word'\"\n",
    "'Hello word'"
   ]
  },
  {
   "cell_type": "code",
   "execution_count": 4,
   "id": "83af9c00-616a-4680-bc00-acf566821b9b",
   "metadata": {},
   "outputs": [
    {
     "name": "stdout",
     "output_type": "stream",
     "text": [
      "Hello word\n"
     ]
    }
   ],
   "source": [
    "# afficher ce meme message avec 'print'\n",
    "print('Hello word')"
   ]
  },
  {
   "cell_type": "code",
   "execution_count": 5,
   "id": "8bb8c210-f99e-48b3-9684-8e2878f62d07",
   "metadata": {},
   "outputs": [
    {
     "name": "stdout",
     "output_type": "stream",
     "text": [
      "Hello word, je m'appelle Hiver\n"
     ]
    }
   ],
   "source": [
    "# un autre test \n",
    "print(\"Hello word, je m'appelle Hiver\")"
   ]
  },
  {
   "cell_type": "code",
   "execution_count": 8,
   "id": "9c5dd943-e4ee-4ca6-af93-6862cb8085b9",
   "metadata": {},
   "outputs": [
    {
     "name": "stdout",
     "output_type": "stream",
     "text": [
      "Hello word,\n",
      "je m'appelle Hiver\n",
      "je continue de tester\n"
     ]
    }
   ],
   "source": [
    "# une fois de plus\n",
    "print(\"Hello word,\\nje m'appelle Hiver\\nje continue de tester\")"
   ]
  },
  {
   "cell_type": "markdown",
   "id": "fd7e2323-e42a-4d8e-a435-0fedaff99095",
   "metadata": {},
   "source": [
    "#### 1 - Python comme calculatrice"
   ]
  },
  {
   "cell_type": "code",
   "execution_count": 9,
   "id": "7e3c0060-05d8-4a21-9e03-73bfa11a183a",
   "metadata": {},
   "outputs": [
    {
     "data": {
      "text/plain": [
       "2"
      ]
     },
     "execution_count": 9,
     "metadata": {},
     "output_type": "execute_result"
    }
   ],
   "source": [
    "# division entière avec //\n",
    "5//2"
   ]
  },
  {
   "cell_type": "code",
   "execution_count": 10,
   "id": "446f3951-7940-41f2-be50-1b222abd603e",
   "metadata": {},
   "outputs": [
    {
     "data": {
      "text/plain": [
       "25"
      ]
     },
     "execution_count": 10,
     "metadata": {},
     "output_type": "execute_result"
    }
   ],
   "source": [
    "# puissance avec **\n",
    "5**2"
   ]
  },
  {
   "cell_type": "code",
   "execution_count": 11,
   "id": "c9cc2721-7fde-47db-923b-319134f42a59",
   "metadata": {},
   "outputs": [
    {
     "data": {
      "text/plain": [
       "1"
      ]
     },
     "execution_count": 11,
     "metadata": {},
     "output_type": "execute_result"
    }
   ],
   "source": [
    "# modulo avec %\n",
    "5%2"
   ]
  },
  {
   "cell_type": "markdown",
   "id": "a2281c6c-9f0c-40a4-a970-225daa1648f4",
   "metadata": {},
   "source": [
    "##### Dans cette rubrique nous testons les connaissance de python sur l'ordre de priorité des opérateurs de signe dans une opération mathématique : '5+2*-3' ou '2*5**3' et '(2*5)**3'"
   ]
  },
  {
   "cell_type": "code",
   "execution_count": 12,
   "id": "0f2e2127-0c52-4e9c-a796-bc0da2851534",
   "metadata": {},
   "outputs": [
    {
     "data": {
      "text/plain": [
       "-1"
      ]
     },
     "execution_count": 12,
     "metadata": {},
     "output_type": "execute_result"
    }
   ],
   "source": [
    "# ordre de priorité des opératuers\n",
    "# la multiplication >> addition >> soustraction\n",
    "5+2*-3"
   ]
  },
  {
   "cell_type": "code",
   "execution_count": 13,
   "id": "33e8b39e-6854-405a-95a7-6e362199ee0b",
   "metadata": {},
   "outputs": [
    {
     "data": {
      "text/plain": [
       "250"
      ]
     },
     "execution_count": 13,
     "metadata": {},
     "output_type": "execute_result"
    }
   ],
   "source": [
    "# python réalise d'abord 5**3, puis multiplie par 2\n",
    "2*5**3"
   ]
  },
  {
   "cell_type": "code",
   "execution_count": 14,
   "id": "bdfd7227-7831-4fb4-aa87-6d6527690549",
   "metadata": {},
   "outputs": [
    {
     "data": {
      "text/plain": [
       "1000"
      ]
     },
     "execution_count": 14,
     "metadata": {},
     "output_type": "execute_result"
    }
   ],
   "source": [
    "# python fait le produit de 2*5 puis élève à la puissance 3\n",
    "(2*5)**3"
   ]
  },
  {
   "cell_type": "code",
   "execution_count": null,
   "id": "af3f11fd-54f1-46fa-804d-91ac8be71a9e",
   "metadata": {},
   "outputs": [],
   "source": [
    "## Exercice 1 : \n",
    "# calculer 5 puissance 3 \n",
    "# ensuite sourtraire 100 du resultat \n",
    "# et enfin, diviser le resultat par 5\n",
    "# la reponse finale doit être = 5 "
   ]
  },
  {
   "cell_type": "code",
   "execution_count": 16,
   "id": "15ab5f8b-13d2-4628-b500-29b573632ea9",
   "metadata": {},
   "outputs": [
    {
     "data": {
      "text/plain": [
       "5.0"
      ]
     },
     "execution_count": 16,
     "metadata": {},
     "output_type": "execute_result"
    }
   ],
   "source": [
    "# corrigé de l'exercice : utiliser les parenthèse pour pour orienter la logique des calculs\n",
    "(5**3-100)/5"
   ]
  },
  {
   "cell_type": "markdown",
   "id": "55f9b800-9975-48db-8ce9-1db18a4b9828",
   "metadata": {},
   "source": [
    "#### 2 - Types / Classe d'objets Python"
   ]
  },
  {
   "cell_type": "code",
   "execution_count": 109,
   "id": "cb3181a2-7355-4c2b-a0f6-67d649a29c1e",
   "metadata": {},
   "outputs": [
    {
     "name": "stdout",
     "output_type": "stream",
     "text": [
      "True\n",
      "False\n"
     ]
    }
   ],
   "source": [
    "# boolean : vrai ou faux\n",
    "a, b = True, False\n",
    "print(a)\n",
    "print(b)"
   ]
  },
  {
   "cell_type": "code",
   "execution_count": 110,
   "id": "e3b8b977-377a-4c9d-aae7-4a63a9db1ac1",
   "metadata": {},
   "outputs": [
    {
     "data": {
      "text/plain": [
       "bool"
      ]
     },
     "execution_count": 110,
     "metadata": {},
     "output_type": "execute_result"
    }
   ],
   "source": [
    "type(True)"
   ]
  },
  {
   "cell_type": "code",
   "execution_count": 17,
   "id": "2983a179-8a4a-4e66-8415-e844e028ef60",
   "metadata": {},
   "outputs": [
    {
     "data": {
      "text/plain": [
       "int"
      ]
     },
     "execution_count": 17,
     "metadata": {},
     "output_type": "execute_result"
    }
   ],
   "source": [
    "# int : nombre entier\n",
    "type(7) "
   ]
  },
  {
   "cell_type": "code",
   "execution_count": 18,
   "id": "c2c95460-0553-4008-bc88-1a60ab125023",
   "metadata": {},
   "outputs": [
    {
     "data": {
      "text/plain": [
       "float"
      ]
     },
     "execution_count": 18,
     "metadata": {},
     "output_type": "execute_result"
    }
   ],
   "source": [
    "# float : nombre décimal\n",
    "type(3.14)"
   ]
  },
  {
   "cell_type": "code",
   "execution_count": 19,
   "id": "26edffa3-7a75-4157-866e-1247c17c7ab7",
   "metadata": {},
   "outputs": [
    {
     "data": {
      "text/plain": [
       "str"
      ]
     },
     "execution_count": 19,
     "metadata": {},
     "output_type": "execute_result"
    }
   ],
   "source": [
    "# str : chaine de caratère\n",
    "type(\"Mon nom\")"
   ]
  },
  {
   "cell_type": "markdown",
   "id": "30fadb14-2048-4100-946e-054e37ed2d4c",
   "metadata": {},
   "source": [
    "#### 2 - Les variables\n",
    "##### Les variables sont des emplacements de mémoires. Les variables sont introduits / initialisées comme en mathématique avec le signe \"=\". L'utilité est de pouvoir les utiliser dans la suite"
   ]
  },
  {
   "cell_type": "markdown",
   "id": "98889ebf-34b2-4a9a-ba48-f0a4eb4395ae",
   "metadata": {},
   "source": [
    "##### a) Variable de type nombre"
   ]
  },
  {
   "cell_type": "code",
   "execution_count": 35,
   "id": "4295e7fe-4c87-4178-a0ec-e65d6d4fc8e4",
   "metadata": {},
   "outputs": [
    {
     "data": {
      "text/plain": [
       "3"
      ]
     },
     "execution_count": 35,
     "metadata": {},
     "output_type": "execute_result"
    }
   ],
   "source": [
    "# les varibales d'une équation\n",
    "x = 3\n",
    "y = x\n",
    "y"
   ]
  },
  {
   "cell_type": "code",
   "execution_count": null,
   "id": "ac15a284-9e50-47ac-a289-22298f75d8da",
   "metadata": {},
   "outputs": [],
   "source": [
    "## Exercice 2 : \n",
    "# affecte 19 à la variable z. quel est le type de la variable z? \n",
    "# affecte z +1 à la variable z\n",
    "# affecte z divisé par 5 la variable z\n",
    "# affecte z puissance 2 à la variable z\n",
    "# quelle est la valeur de z ? quel est son type ? "
   ]
  },
  {
   "cell_type": "code",
   "execution_count": 53,
   "id": "ae97d4f3-87e9-4234-b470-d0ee011ac5d7",
   "metadata": {},
   "outputs": [
    {
     "data": {
      "text/plain": [
       "float"
      ]
     },
     "execution_count": 53,
     "metadata": {},
     "output_type": "execute_result"
    }
   ],
   "source": [
    "# corrigé de l'exercice : initialisation et réinitialisation de la variable z\n",
    "z = 19 # type int\n",
    "type(z)\n",
    "z+=1\n",
    "z = z/5\n",
    "z = z**2\n",
    "z\n",
    "type(z) # valeur de z = 16.0"
   ]
  },
  {
   "cell_type": "code",
   "execution_count": 57,
   "id": "511defff-9f8e-48ab-8c85-d9969db2453b",
   "metadata": {},
   "outputs": [
    {
     "name": "stdout",
     "output_type": "stream",
     "text": [
      "10\n",
      "3\n",
      "0\n"
     ]
    }
   ],
   "source": [
    "# affection multiples\n",
    "a, b, c = 10, 3, 0\n",
    "print(a)\n",
    "print(b)\n",
    "print(c)"
   ]
  },
  {
   "cell_type": "markdown",
   "id": "8925985b-613c-4fbb-8a48-a6c3317068bb",
   "metadata": {},
   "source": [
    "##### b) Variable de type string"
   ]
  },
  {
   "cell_type": "code",
   "execution_count": 58,
   "id": "866fce41-3649-4e3a-a098-41ca71772d00",
   "metadata": {},
   "outputs": [
    {
     "name": "stdout",
     "output_type": "stream",
     "text": [
      "Hello\n"
     ]
    }
   ],
   "source": [
    "# variable de type str\n",
    "greeting = 'Hello'\n",
    "print(greeting)"
   ]
  },
  {
   "cell_type": "code",
   "execution_count": 59,
   "id": "c7a48354-6faa-49dd-a9b2-3cb68d19c7dc",
   "metadata": {},
   "outputs": [
    {
     "data": {
      "text/plain": [
       "'Hello world'"
      ]
     },
     "execution_count": 59,
     "metadata": {},
     "output_type": "execute_result"
    }
   ],
   "source": [
    "# + : symbole de concatenation des variables str\n",
    "greeting + ' world'"
   ]
  },
  {
   "cell_type": "code",
   "execution_count": 60,
   "id": "3fd64480-7f80-4a85-81f2-35596904c91f",
   "metadata": {},
   "outputs": [
    {
     "data": {
      "text/plain": [
       "'HelloHelloHello'"
      ]
     },
     "execution_count": 60,
     "metadata": {},
     "output_type": "execute_result"
    }
   ],
   "source": [
    "# multilication des chaines de caractères\n",
    "'Hello'*3"
   ]
  },
  {
   "cell_type": "code",
   "execution_count": 61,
   "id": "82fd3071-93d5-4fb8-b340-68db584a32dd",
   "metadata": {},
   "outputs": [
    {
     "data": {
      "text/plain": [
       "5"
      ]
     },
     "execution_count": 61,
     "metadata": {},
     "output_type": "execute_result"
    }
   ],
   "source": [
    "# compter la longueur de la chaine de caratère\n",
    "len(greeting)"
   ]
  },
  {
   "cell_type": "code",
   "execution_count": null,
   "id": "a0a7584d-1d5c-4efa-9f4c-0d3a97eec69f",
   "metadata": {},
   "outputs": [],
   "source": [
    "## Exercie 3 :\n",
    "# affecter votre prenom a la variable first_name\n",
    "# affecter votre nom à la variable last_name (1ere lettre en majiscule)\n",
    "# transformer la variabele first_name en mettant toutes les lettres en majiscule\n",
    "# concatener les variables first_name et last_name et affecter le resultat à la variable name\n",
    "# quel est le nombre de caractère dans la variable name"
   ]
  },
  {
   "cell_type": "code",
   "execution_count": 288,
   "id": "e281e43b-0046-4b93-9d13-df6a12b9733a",
   "metadata": {},
   "outputs": [
    {
     "name": "stdout",
     "output_type": "stream",
     "text": [
      "Madison\n",
      "KIMIA\n"
     ]
    }
   ],
   "source": [
    "# corrigé : \n",
    "first_name = 'Madison'\n",
    "last_name = 'Kimia'\n",
    "last_name = last_name.upper()\n",
    "print(first_name)\n",
    "print(last_name)"
   ]
  },
  {
   "cell_type": "code",
   "execution_count": 69,
   "id": "8bfdbc66-e48f-498e-b804-7edf745378d0",
   "metadata": {},
   "outputs": [
    {
     "name": "stdout",
     "output_type": "stream",
     "text": [
      "Madison_KIMIA\n"
     ]
    },
    {
     "data": {
      "text/plain": [
       "13"
      ]
     },
     "execution_count": 69,
     "metadata": {},
     "output_type": "execute_result"
    }
   ],
   "source": [
    "# concatenation de variables str\n",
    "name = first_name + '_' + last_name\n",
    "print(name)\n",
    "len(name)"
   ]
  },
  {
   "cell_type": "code",
   "execution_count": 73,
   "id": "448d4fbd-8829-44cb-a2da-1ccae0700db7",
   "metadata": {},
   "outputs": [
    {
     "name": "stdout",
     "output_type": "stream",
     "text": [
      "je m'appelle Madison_KIMIA \n",
      "Je vis à Brazzaville\n"
     ]
    }
   ],
   "source": [
    "city = 'Brazzaville'\n",
    "print(\"je m'appelle\", name,\"\\nJe vis à\", city)"
   ]
  },
  {
   "cell_type": "markdown",
   "id": "e833f2d5-7523-4dd2-ab3f-373831edc74a",
   "metadata": {},
   "source": [
    "##### c) Les methodes appliqués aux str"
   ]
  },
  {
   "cell_type": "code",
   "execution_count": 289,
   "id": "0d795bd9-91ca-4d58-bbf0-2b4ccf139516",
   "metadata": {},
   "outputs": [
    {
     "data": {
      "text/plain": [
       "'HELLO WORLD'"
      ]
     },
     "execution_count": 289,
     "metadata": {},
     "output_type": "execute_result"
    }
   ],
   "source": [
    "# transformer un texte en texte en majiscule\n",
    "# méthode .upper()\n",
    "'Hello world'.upper()"
   ]
  },
  {
   "cell_type": "code",
   "execution_count": 290,
   "id": "908136bb-7d6a-4c05-babf-cba624de98d8",
   "metadata": {},
   "outputs": [
    {
     "data": {
      "text/plain": [
       "'hello world'"
      ]
     },
     "execution_count": 290,
     "metadata": {},
     "output_type": "execute_result"
    }
   ],
   "source": [
    "# transformer un texte en miniscule \n",
    "# méthode .lower()\n",
    "'Hello World'.lower()"
   ]
  },
  {
   "cell_type": "code",
   "execution_count": 291,
   "id": "90479643-f3ef-44a9-ac20-6995648f81c9",
   "metadata": {},
   "outputs": [
    {
     "data": {
      "text/plain": [
       "'Barthy'"
      ]
     },
     "execution_count": 291,
     "metadata": {},
     "output_type": "execute_result"
    }
   ],
   "source": [
    "# remplacer des caractères \n",
    "# méthode .replace()\n",
    "'Berty'.replace('erty', 'arthy')"
   ]
  },
  {
   "cell_type": "code",
   "execution_count": 292,
   "id": "2a4b5e47-135d-48c9-bb78-a796cfe10ca3",
   "metadata": {},
   "outputs": [
    {
     "data": {
      "text/plain": [
       "'Madison kimia'"
      ]
     },
     "execution_count": 292,
     "metadata": {},
     "output_type": "execute_result"
    }
   ],
   "source": [
    "# transformer la premiere de la phrase en majiscule\n",
    "# méthode .capitalize()\n",
    "'madison kimia'.capitalize()"
   ]
  },
  {
   "cell_type": "code",
   "execution_count": 293,
   "id": "de3c7625-a981-47d4-aec9-3e47ebfda719",
   "metadata": {},
   "outputs": [
    {
     "data": {
      "text/plain": [
       "'Josué Cyril'"
      ]
     },
     "execution_count": 293,
     "metadata": {},
     "output_type": "execute_result"
    }
   ],
   "source": [
    "# transformer chaque 1ere lettre de mot en majiscule\n",
    "# méthode .title()\n",
    "'josué cyril'.title()"
   ]
  },
  {
   "cell_type": "code",
   "execution_count": 294,
   "id": "bf9a6468-77d0-42e8-a3c4-52b802c8edb3",
   "metadata": {},
   "outputs": [
    {
     "name": "stdout",
     "output_type": "stream",
     "text": [
      "['la', 'crise', 'sanitaire', 'et', 'financière']\n",
      "['ce test sur pyhton ', ' je le réussi']\n"
     ]
    }
   ],
   "source": [
    "# fragmenter / séparer une chaine de caractère\n",
    "# méthode .split()\n",
    "s = 'la crise sanitaire et financière'\n",
    "y = 'ce test sur pyhton - je le réussi'\n",
    "\n",
    "print(s.split())\n",
    "print(y.split('-'))"
   ]
  },
  {
   "cell_type": "code",
   "execution_count": 295,
   "id": "5d20e6b0-792d-422b-bcfb-faa7996af850",
   "metadata": {},
   "outputs": [
    {
     "data": {
      "text/plain": [
       "'M-a-m-a- -D-i-n-a'"
      ]
     },
     "execution_count": 295,
     "metadata": {},
     "output_type": "execute_result"
    }
   ],
   "source": [
    "# séparer des traits d'union une chaine de caratcère\n",
    "# méthode .join()\n",
    "p = 'Mama Dina'\n",
    "'-'.join(p)"
   ]
  },
  {
   "cell_type": "markdown",
   "id": "d7000c5a-6aee-4f13-9b41-95e74a6a2d0a",
   "metadata": {},
   "source": [
    "#### 3 - L'indexation"
   ]
  },
  {
   "cell_type": "markdown",
   "id": "feadc9cc-5c83-42c6-836b-e7f743af3714",
   "metadata": {},
   "source": [
    "##### L'indexation commence par 0 -  le premier est 0, le dernier est -1"
   ]
  },
  {
   "cell_type": "code",
   "execution_count": 296,
   "id": "5b146272-a21f-4c02-8875-ab2b1a5d3ea3",
   "metadata": {},
   "outputs": [],
   "source": [
    "# initialiser la variable region\n",
    "region = 'Plateaux'"
   ]
  },
  {
   "cell_type": "code",
   "execution_count": 86,
   "id": "f5c12521-d166-4c02-b150-c835ca72722e",
   "metadata": {},
   "outputs": [
    {
     "data": {
      "text/plain": [
       "8"
      ]
     },
     "execution_count": 86,
     "metadata": {},
     "output_type": "execute_result"
    }
   ],
   "source": [
    "len(region)"
   ]
  },
  {
   "cell_type": "code",
   "execution_count": 89,
   "id": "f4c4e210-bb3b-428c-b166-8b72f9a9a73a",
   "metadata": {},
   "outputs": [
    {
     "name": "stdout",
     "output_type": "stream",
     "text": [
      "P\n",
      "l\n",
      "a\n",
      "x\n"
     ]
    }
   ],
   "source": [
    "# premier, deuxieme,... dernier élément\n",
    "print(region[0])\n",
    "print(region[1])\n",
    "print(region[2])\n",
    "print(region[-1])"
   ]
  },
  {
   "cell_type": "code",
   "execution_count": 90,
   "id": "0ae738e7-85d5-4a2b-a403-73598d67e7eb",
   "metadata": {},
   "outputs": [
    {
     "name": "stdout",
     "output_type": "stream",
     "text": [
      "Plate\n"
     ]
    }
   ],
   "source": [
    "# élement compris entre plage / intervalle \n",
    "print(region[:5])"
   ]
  },
  {
   "cell_type": "code",
   "execution_count": 297,
   "id": "2328f458-ea4f-4eaa-bb3a-3e79b9b5c6da",
   "metadata": {},
   "outputs": [
    {
     "name": "stdout",
     "output_type": "stream",
     "text": [
      "late\n"
     ]
    }
   ],
   "source": [
    "# récupérer 'late' dans p-late-aux\n",
    "print(region[1:5])"
   ]
  },
  {
   "cell_type": "code",
   "execution_count": null,
   "id": "927e3a01-c8ce-4fe0-8e58-94b25d5e18a4",
   "metadata": {},
   "outputs": [],
   "source": [
    "## Exercice 4 :\n",
    "# déclarez la variable city = 'San Francisco'\n",
    "# récupérez les mots 'San' rt 'Francis' en utilisant l'indexation\n",
    "# récupérez les 4 premiers éléments et les 4 derniers élément de la variable "
   ]
  },
  {
   "cell_type": "code",
   "execution_count": 95,
   "id": "19e0205f-daaa-45f9-8c7e-2c1d56716eb3",
   "metadata": {},
   "outputs": [
    {
     "data": {
      "text/plain": [
       "13"
      ]
     },
     "execution_count": 95,
     "metadata": {},
     "output_type": "execute_result"
    }
   ],
   "source": [
    "# corrigé : \n",
    "city = 'San Francisco'\n",
    "len(city)"
   ]
  },
  {
   "cell_type": "code",
   "execution_count": 97,
   "id": "2b0fe8d6-261e-4776-a071-210f44c1b99a",
   "metadata": {},
   "outputs": [
    {
     "name": "stdout",
     "output_type": "stream",
     "text": [
      "San\n",
      "Francis\n"
     ]
    }
   ],
   "source": [
    "# récupérer les variables \n",
    "print(city[:3])\n",
    "print(city[4:11]) "
   ]
  },
  {
   "cell_type": "code",
   "execution_count": 298,
   "id": "e42a4085-7b68-4f76-b1dd-71a57387f29b",
   "metadata": {},
   "outputs": [
    {
     "name": "stdout",
     "output_type": "stream",
     "text": [
      "San F\n",
      "isco\n"
     ]
    }
   ],
   "source": [
    "# récupérer les 4 premiers et derniers variables\n",
    "p = print(city[:5])\n",
    "d = print(city[-4:])"
   ]
  },
  {
   "cell_type": "markdown",
   "id": "b81e3468-8c56-4d78-911e-7f8ae21b2432",
   "metadata": {},
   "source": [
    "#### 4 - La fonction 'input'"
   ]
  },
  {
   "cell_type": "markdown",
   "id": "7f3a3bc0-0663-4081-81b9-e70315d7af5b",
   "metadata": {},
   "source": [
    "##### Fonction permettant d'intérragir avec le programme via un input box"
   ]
  },
  {
   "cell_type": "code",
   "execution_count": 105,
   "id": "32eca41d-14af-428f-bbb1-10ecc933a5eb",
   "metadata": {},
   "outputs": [
    {
     "name": "stdout",
     "output_type": "stream",
     "text": [
      "comment t'appelles-tu ?\n"
     ]
    },
    {
     "name": "stdin",
     "output_type": "stream",
     "text": [
      " Joel\n"
     ]
    },
    {
     "name": "stdout",
     "output_type": "stream",
     "text": [
      "Bonjour Joel\n",
      "quelle âge as-tu ?\n"
     ]
    },
    {
     "name": "stdin",
     "output_type": "stream",
     "text": [
      " 12\n"
     ]
    },
    {
     "name": "stdout",
     "output_type": "stream",
     "text": [
      "tu as 12 an\n"
     ]
    }
   ],
   "source": [
    "# petit programme avec 'input'\n",
    "print(\"comment t'appelles-tu ?\")\n",
    "nom = input()\n",
    "print('Bonjour', nom)\n",
    "print(\"quelle âge as-tu ?\")\n",
    "age = int(input())\n",
    "print('tu as', age, 'an')"
   ]
  },
  {
   "cell_type": "markdown",
   "id": "476b414e-c1d4-471d-b693-2ac9d7184067",
   "metadata": {},
   "source": [
    "## II - Structures conditionnelles et boucles"
   ]
  },
  {
   "cell_type": "markdown",
   "id": "91461764-6c4b-4007-84bf-0127e0e186f6",
   "metadata": {},
   "source": [
    "##### Les opérateurs logiques : True / False"
   ]
  },
  {
   "cell_type": "code",
   "execution_count": null,
   "id": "7c13d0a9-c994-4b1f-bd37-193be138d308",
   "metadata": {},
   "outputs": [],
   "source": [
    "## Exercie 5 :\n",
    "# déclarez la variable majeur = True\n",
    "# déclarez la variable senior = False\n",
    "# testez :\n",
    "# majeur and senior\n",
    "# majeur or senior\n",
    "# not majeur \n",
    "# not senior\n",
    "# nor majeur and senior "
   ]
  },
  {
   "cell_type": "code",
   "execution_count": 299,
   "id": "c07ea078-c460-47da-91b7-56f85516ba7b",
   "metadata": {},
   "outputs": [
    {
     "data": {
      "text/plain": [
       "False"
      ]
     },
     "execution_count": 299,
     "metadata": {},
     "output_type": "execute_result"
    }
   ],
   "source": [
    "majeur =  True\n",
    "senior = False \n",
    "# tester la combinaison :\n",
    "majeur and senior\n",
    "majeur or senior \n",
    "not majeur \n",
    "# ainsi de suite..."
   ]
  },
  {
   "cell_type": "markdown",
   "id": "6ad5ac47-1f0d-4c56-84af-ca7bda8f1cfe",
   "metadata": {},
   "source": [
    "##### Les opérateurs de comparaison : les réponses de ces comparaisons sont de type booléen (True / False)"
   ]
  },
  {
   "cell_type": "code",
   "execution_count": null,
   "id": "bae95f14-48f5-47ec-94bf-ab82db8c24d9",
   "metadata": {},
   "outputs": [],
   "source": [
    "# < : inférieur à\n",
    "# > : supérieur à\n",
    "# <= : inférieur ou égal à\n",
    "# >= : supérieur ou égal à\n",
    "# == : égal / équivalent à\n",
    "# != : différent de\n",
    "# le résultat attendu est soit True / False"
   ]
  },
  {
   "cell_type": "code",
   "execution_count": 300,
   "id": "a1720d39-ef0a-4a88-b3df-36679e5c05df",
   "metadata": {},
   "outputs": [
    {
     "name": "stdout",
     "output_type": "stream",
     "text": [
      "z est-il équivalent à y ? : True\n",
      "y est-il supérieur ou égal à b ? : False\n",
      "y est-il différent de a*b ? : True\n"
     ]
    }
   ],
   "source": [
    "z = 5\n",
    "y = 5.0\n",
    "b = 1000\n",
    "# z est-il équivalent à y ? \n",
    "print('z est-il équivalent à y ? :', z == y)\n",
    "print('y est-il supérieur ou égal à b ? :', y >= b)\n",
    "print('y est-il différent de a*b ? :', y != a*b)\n",
    "# ainsi de suite..."
   ]
  },
  {
   "cell_type": "code",
   "execution_count": null,
   "id": "15af260b-99a6-483c-8567-9dcbf0ca4dff",
   "metadata": {},
   "outputs": [],
   "source": [
    "## Exercie 6 :\n",
    "# demandez à un user de rensigner son nom et son âge dans la variable age\n",
    "# verifiez si l'âge > 18\n",
    "# vérifiez si l'âge est supérieur ou égal 20 ou inférieur à 25\n",
    "# vérifiez si l'âge est dans [20 - 30] ou [31 - 40]"
   ]
  },
  {
   "cell_type": "code",
   "execution_count": 120,
   "id": "10b57192-9acc-4a0e-b0ad-ece60684ac96",
   "metadata": {},
   "outputs": [
    {
     "name": "stdout",
     "output_type": "stream",
     "text": [
      "quel est ton nom ?\n"
     ]
    },
    {
     "name": "stdin",
     "output_type": "stream",
     "text": [
      " Keny\n"
     ]
    },
    {
     "name": "stdout",
     "output_type": "stream",
     "text": [
      "Keny quel est ton âge ?\n"
     ]
    },
    {
     "name": "stdin",
     "output_type": "stream",
     "text": [
      " 16\n"
     ]
    },
    {
     "name": "stdout",
     "output_type": "stream",
     "text": [
      "l'âge de Keny est-il > 18 ? False\n"
     ]
    }
   ],
   "source": [
    "# corrigé :\n",
    "print('quel est ton nom ?')\n",
    "nom = input()\n",
    "print(nom, 'quel est ton âge ?')\n",
    "age = int(input())\n",
    "# vérification du critère d'âge \n",
    "print(\"l'âge de\", nom, \"est-il > 18 ? : \", age > 18)"
   ]
  },
  {
   "cell_type": "code",
   "execution_count": 121,
   "id": "dd4ec66f-c3a4-4924-9433-430886cb830a",
   "metadata": {},
   "outputs": [
    {
     "name": "stdout",
     "output_type": "stream",
     "text": [
      "lâge de Keny est-il dans [20 - 30] ou [31 - 40] ? :  False\n"
     ]
    }
   ],
   "source": [
    "# vérifier si l'age apparient à au moins un intervalle\n",
    "print(\"lâge de\", nom, \"est-il dans [20 - 30] ou [31 - 40] ? : \",\n",
    "      (age >=20 and age <=30) or (age >=31 and age <=40))"
   ]
  },
  {
   "cell_type": "markdown",
   "id": "cd7252bc-aedd-4e9b-af97-af4af4af7bee",
   "metadata": {},
   "source": [
    "#### 1 - Structure conditionnelle 'if'"
   ]
  },
  {
   "cell_type": "code",
   "execution_count": null,
   "id": "92d71119-fd8d-423c-9f39-dcbdc114a4e0",
   "metadata": {},
   "outputs": [],
   "source": [
    "## Exercice 7 : \n",
    "# écrire un programme qui conditionne l'age d'un condidat au vote supérieur à 18 an\n",
    "# et si il a plus de 25 ans, il peut jouer aux jeux du hasard"
   ]
  },
  {
   "cell_type": "code",
   "execution_count": 128,
   "id": "aa64a652-acc3-48bd-af24-67f3a7ea1703",
   "metadata": {},
   "outputs": [
    {
     "name": "stdin",
     "output_type": "stream",
     "text": [
      "quel est ton âge ? : 20\n"
     ]
    },
    {
     "name": "stdout",
     "output_type": "stream",
     "text": [
      "tu es éligible au droit de vote\n"
     ]
    }
   ],
   "source": [
    "# corrigé :\n",
    "age = int(input('quel est ton âge ? :', ))\n",
    "if age >= 25 :\n",
    "    print('tu es éligible au vote et aux jeux du hasard')\n",
    "elif age >= 18 : \n",
    "    print('tu es éligible au droit de vote')\n",
    "else : \n",
    "    print('tu es encore trop jeune')"
   ]
  },
  {
   "cell_type": "code",
   "execution_count": 127,
   "id": "5ad75f01-8ca5-4779-8770-63204fac1377",
   "metadata": {},
   "outputs": [
    {
     "name": "stdin",
     "output_type": "stream",
     "text": [
      "quel est ton âge ? : 28\n"
     ]
    },
    {
     "name": "stdout",
     "output_type": "stream",
     "text": [
      "tu es éligible au droit de vote\n",
      "tu es éligible au vote et aux jeux du hasard\n"
     ]
    }
   ],
   "source": [
    "# corrigé 2 : usage de if imbriqué (c-a-d : utilisation de 2 fois if)\n",
    "age = int(input('quel est ton âge ? :', ))\n",
    "if age >= 18 :\n",
    "    print('tu es éligible au droit de vote')\n",
    "    if age >= 25 : \n",
    "        print('tu es éligible au vote et aux jeux du hasard')\n",
    "else : \n",
    "    print('tu es encore trop jeune')"
   ]
  },
  {
   "cell_type": "markdown",
   "id": "17771a27-f036-4a0c-835e-9adb8f4a2688",
   "metadata": {},
   "source": [
    "#### 2 - Structure conditionnelle 'for' : itération d'objet"
   ]
  },
  {
   "cell_type": "code",
   "execution_count": 130,
   "id": "15335ed0-0935-45b8-94f3-4cba8ea419fe",
   "metadata": {},
   "outputs": [
    {
     "name": "stdout",
     "output_type": "stream",
     "text": [
      "1\n",
      "2\n",
      "3\n",
      "4\n"
     ]
    }
   ],
   "source": [
    "# boucle for avec la fonction range()\n",
    "# utiliser le pas / incrémentation de 1 (par defaut)\n",
    "for i in range(1,5):\n",
    "    print(i)"
   ]
  },
  {
   "cell_type": "code",
   "execution_count": 141,
   "id": "21afc467-aee4-484c-ae1c-f9970d8bac2f",
   "metadata": {},
   "outputs": [
    {
     "name": "stdout",
     "output_type": "stream",
     "text": [
      "1\n",
      "3\n"
     ]
    }
   ],
   "source": [
    "# utiliser l'incrémentation à 2\n",
    "for i in range(1,5, 2):\n",
    "    print(i)"
   ]
  },
  {
   "cell_type": "code",
   "execution_count": 142,
   "id": "92af71f0-9a39-4da8-a9d0-e41b4a53c68b",
   "metadata": {},
   "outputs": [
    {
     "name": "stdout",
     "output_type": "stream",
     "text": [
      "P\n",
      "y\n",
      "t\n",
      "h\n",
      "o\n",
      "n\n"
     ]
    }
   ],
   "source": [
    "#itérer une chaine de caractère \n",
    "for a in 'Python':\n",
    "    print(a)"
   ]
  },
  {
   "cell_type": "code",
   "execution_count": 144,
   "id": "55596af7-904f-4fab-b20b-51640cecaf7b",
   "metadata": {},
   "outputs": [
    {
     "name": "stdout",
     "output_type": "stream",
     "text": [
      "b\n",
      "u\n",
      "s\n",
      "b\n",
      "u\n",
      "s\n",
      "b\n",
      "u\n",
      "s\n"
     ]
    }
   ],
   "source": [
    "# utilisation de for imbriqué\n",
    "for i in range(3):\n",
    "    for i in 'bus':\n",
    "        print(i)"
   ]
  },
  {
   "cell_type": "code",
   "execution_count": null,
   "id": "021917fd-d8c4-4d5b-a348-06700d6bb970",
   "metadata": {},
   "outputs": [],
   "source": [
    "## Exercice 8 :\n",
    "# avec une boucle for, obtenez l'affichage ci-dessous : \n",
    "# 1 au carré = 1\n",
    "# 2 au carré = 4\n",
    "# 3 au carré = 9\n",
    "#...\n",
    "#10 au carré = 100"
   ]
  },
  {
   "cell_type": "code",
   "execution_count": 153,
   "id": "621892c2-db17-4957-8bb8-67ae421b355c",
   "metadata": {},
   "outputs": [
    {
     "name": "stdout",
     "output_type": "stream",
     "text": [
      "1 au carré = 1\n",
      "2 au carré = 4\n",
      "3 au carré = 9\n",
      "4 au carré = 16\n",
      "5 au carré = 25\n",
      "6 au carré = 36\n",
      "7 au carré = 49\n",
      "8 au carré = 64\n",
      "9 au carré = 81\n",
      "10 au carré = 100\n"
     ]
    }
   ],
   "source": [
    "# corrigé :\n",
    "for i in range(10):\n",
    "    i+=1\n",
    "    print(i, 'au carré =', i**2)"
   ]
  },
  {
   "cell_type": "code",
   "execution_count": null,
   "id": "a072c265-cf6d-4b86-9784-61dbb1d25bd4",
   "metadata": {},
   "outputs": [],
   "source": [
    "## Exercie 9 : \n",
    "# écris la table de multiplication de 9 de 1 à 12"
   ]
  },
  {
   "cell_type": "code",
   "execution_count": 154,
   "id": "1feadce8-d429-40ad-9902-7a6573924961",
   "metadata": {},
   "outputs": [
    {
     "name": "stdout",
     "output_type": "stream",
     "text": [
      "9 * 1 = 9\n",
      "9 * 2 = 18\n",
      "9 * 3 = 27\n",
      "9 * 4 = 36\n",
      "9 * 5 = 45\n",
      "9 * 6 = 54\n",
      "9 * 7 = 63\n",
      "9 * 8 = 72\n",
      "9 * 9 = 81\n",
      "9 * 10 = 90\n",
      "9 * 11 = 99\n",
      "9 * 12 = 108\n"
     ]
    }
   ],
   "source": [
    "# corrigé :\n",
    "for i in range (12):\n",
    "    i+=1\n",
    "    print('9 *',i,'=',9*i)"
   ]
  },
  {
   "cell_type": "markdown",
   "id": "00fd29f8-c543-4cf7-b9aa-fdac6ed77ce0",
   "metadata": {},
   "source": [
    "#### 3 - Structure conditionnelle 'while'"
   ]
  },
  {
   "cell_type": "markdown",
   "id": "9796368b-8f0b-4299-bb51-319903038350",
   "metadata": {},
   "source": [
    "##### Boucle à utiliser quand le nombre d'itération est inconnu"
   ]
  },
  {
   "cell_type": "code",
   "execution_count": 156,
   "id": "042b17dc-365b-49ac-98dd-d11035dc2b67",
   "metadata": {},
   "outputs": [
    {
     "name": "stdout",
     "output_type": "stream",
     "text": [
      "0\n",
      "1\n",
      "2\n",
      "3\n",
      "4\n",
      "5\n",
      "6\n",
      "7\n",
      "8\n",
      "9\n"
     ]
    }
   ],
   "source": [
    "# affichage des 10 premiers entiers naturels (0,1,2...9)\n",
    "i = 0 # initialisation de l'itérateur \n",
    "while i <= 9:\n",
    "    print(i)\n",
    "    i+=1"
   ]
  },
  {
   "cell_type": "code",
   "execution_count": null,
   "id": "73e1313d-5034-4087-9f28-f14fac482349",
   "metadata": {},
   "outputs": [],
   "source": [
    "# NB /  SI LA CONDITION EST MAL DEFINIE, LA BOUCLE TOURNE INDEFINIMENT OU SANS ARRET - BUG..."
   ]
  },
  {
   "cell_type": "code",
   "execution_count": 157,
   "id": "b7e08bdc-f785-4019-aa43-0492fe440602",
   "metadata": {},
   "outputs": [
    {
     "name": "stdout",
     "output_type": "stream",
     "text": [
      "1\n",
      "2\n",
      "3\n",
      "4\n",
      "5\n",
      "6\n"
     ]
    }
   ],
   "source": [
    "# utiliser while avec break pour interrompre sinon forcer l'arrêt de l'exécution de l'intruction\n",
    "i = 1\n",
    "while i <= 10:\n",
    "    print(i)\n",
    "    if i == 6:\n",
    "        break\n",
    "    i+=1"
   ]
  },
  {
   "cell_type": "code",
   "execution_count": null,
   "id": "ac6d8366-22b6-4d80-8bba-a49b84aff126",
   "metadata": {},
   "outputs": [],
   "source": [
    " ## Exercie 10 :\n",
    "# écrire une boucle while pour afficher les nombre de 0 à 50 en allant par pas de 5\n",
    "# ecrire le même code en ajoutant le mot clé else"
   ]
  },
  {
   "cell_type": "code",
   "execution_count": 159,
   "id": "196a7296-9a8f-4671-88ef-3f30f50168df",
   "metadata": {},
   "outputs": [
    {
     "name": "stdout",
     "output_type": "stream",
     "text": [
      "0\n",
      "5\n",
      "10\n",
      "15\n",
      "20\n",
      "25\n",
      "30\n",
      "35\n",
      "40\n",
      "45\n",
      "50\n",
      "55 nest pas inférieur à 50\n"
     ]
    }
   ],
   "source": [
    "# corrigé :\n",
    "i = 0\n",
    "while i <= 50:\n",
    "    print(i)\n",
    "    i+=5\n",
    "else:\n",
    "    print(i, 'nest pas inférieur à 50')"
   ]
  },
  {
   "cell_type": "code",
   "execution_count": null,
   "id": "72373728-5410-430b-a7e6-1418a92c50fd",
   "metadata": {},
   "outputs": [],
   "source": [
    "## Exercice 11 :\n",
    "# écrire un code qui détermine si un nombre est pair ou impair"
   ]
  },
  {
   "cell_type": "code",
   "execution_count": 164,
   "id": "673a7aba-0dbb-439c-9780-983aa853e8df",
   "metadata": {},
   "outputs": [
    {
     "name": "stdout",
     "output_type": "stream",
     "text": [
      "rentrer un nombre :\n"
     ]
    },
    {
     "name": "stdin",
     "output_type": "stream",
     "text": [
      " 352\n"
     ]
    },
    {
     "name": "stdout",
     "output_type": "stream",
     "text": [
      "352 est un nombre pair\n"
     ]
    }
   ],
   "source": [
    "# corrigé :\n",
    "print('rentrer un nombre :')\n",
    "n = int(input())\n",
    "if n%2 == 0:\n",
    "    print(n, 'est un nombre pair')\n",
    "else : \n",
    "    print(n, 'est un nombre impair')"
   ]
  },
  {
   "cell_type": "markdown",
   "id": "3f80dd12-c997-4cf6-8935-11981cda2e3b",
   "metadata": {},
   "source": [
    "## III - Structure des données "
   ]
  },
  {
   "cell_type": "markdown",
   "id": "392944f5-c610-4310-9649-16791519d3e2",
   "metadata": {},
   "source": [
    "#### 1 - La liste "
   ]
  },
  {
   "cell_type": "code",
   "execution_count": null,
   "id": "ae7c68ad-6714-4498-85e4-2a55c3ddbdd5",
   "metadata": {},
   "outputs": [],
   "source": [
    "# structure permettant de stocker des données de divers types. Aussi bien des nombre que des chaine de caractère"
   ]
  },
  {
   "cell_type": "code",
   "execution_count": 330,
   "id": "e00cae41-c7f9-417e-bbb4-dd3616e53dcc",
   "metadata": {},
   "outputs": [
    {
     "name": "stdout",
     "output_type": "stream",
     "text": [
      "['farine', 'sucre', 'pattes', 'légumes']\n"
     ]
    },
    {
     "data": {
      "text/plain": [
       "list"
      ]
     },
     "execution_count": 330,
     "metadata": {},
     "output_type": "execute_result"
    }
   ],
   "source": [
    "# ma premiere liste \n",
    "courses = ['farine', 'sucre', 'pattes', 'légumes']\n",
    "print(courses)\n",
    "type(courses)"
   ]
  },
  {
   "cell_type": "code",
   "execution_count": 279,
   "id": "86670ad1-db8c-48c8-8c5f-7a5c69f9148c",
   "metadata": {},
   "outputs": [
    {
     "data": {
      "text/plain": [
       "['farine', 'sucre']"
      ]
     },
     "execution_count": 279,
     "metadata": {},
     "output_type": "execute_result"
    }
   ],
   "source": [
    "# indexation\n",
    "courses[0:2]"
   ]
  },
  {
   "cell_type": "code",
   "execution_count": 331,
   "id": "6ec5eef2-a0b7-4f2a-a226-f3c52a84f768",
   "metadata": {},
   "outputs": [
    {
     "name": "stdout",
     "output_type": "stream",
     "text": [
      "['farine', 'sucre', 'pattes', 'légumes', 'viande', 'lait']\n"
     ]
    }
   ],
   "source": [
    "# concatener plus d'une liste\n",
    "courses = courses + ['viande', 'lait']\n",
    "print(courses)"
   ]
  },
  {
   "cell_type": "code",
   "execution_count": 281,
   "id": "5633092b-2c7b-45e2-897a-67d86cfa78ef",
   "metadata": {},
   "outputs": [
    {
     "name": "stdout",
     "output_type": "stream",
     "text": [
      "['pop', 23, 3.14, False, 'farine', 'sucre', 'pattes', 'légumes', 'viande', 'lait']\n"
     ]
    }
   ],
   "source": [
    "# liste de données de tout type\n",
    "liste_mixte = ['pop', 23, 3.14, False] + courses\n",
    "print(liste_mixte)"
   ]
  },
  {
   "cell_type": "code",
   "execution_count": 332,
   "id": "f0ce0418-2c3d-408c-b793-6364f86af33c",
   "metadata": {},
   "outputs": [
    {
     "name": "stdout",
     "output_type": "stream",
     "text": [
      "['farine', 'sucre', 'pattes', 'légumes', 'viande', 'lait', 'chocolat', 'crème glacée', 'biscuit']\n"
     ]
    }
   ],
   "source": [
    "# ajouter de nouveaux éléments à la liste déjà existante et non vide\n",
    "# méthode .extend()\n",
    "courses.extend(['chocolat', 'crème glacée', 'biscuit'])\n",
    "print(courses)"
   ]
  },
  {
   "cell_type": "code",
   "execution_count": 333,
   "id": "0dd67008-53ce-4f8f-b635-dc7c2882a757",
   "metadata": {},
   "outputs": [
    {
     "name": "stdout",
     "output_type": "stream",
     "text": [
      "5\n"
     ]
    }
   ],
   "source": [
    "# récupérer la position d'un élément \n",
    "# methode .index()\n",
    "position_elem = courses.index('lait')\n",
    "print(position_elem)"
   ]
  },
  {
   "cell_type": "code",
   "execution_count": 307,
   "id": "d3a6f440-1e92-4925-a3af-6580122f3072",
   "metadata": {},
   "outputs": [
    {
     "data": {
      "text/plain": [
       "['farine',\n",
       " 'sucre',\n",
       " 'pattes',\n",
       " 'légumes',\n",
       " 'viande',\n",
       " 'chocolat',\n",
       " 'crème glacée',\n",
       " 'biscuit']"
      ]
     },
     "execution_count": 307,
     "metadata": {},
     "output_type": "execute_result"
    }
   ],
   "source": [
    "# supprimer un élément \n",
    "# méthode .pop()\n",
    "courses.pop(position_elem)\n",
    "courses # l'élément 'lait' a été supprimé de la liste"
   ]
  },
  {
   "cell_type": "code",
   "execution_count": null,
   "id": "fd46838b-4075-44e4-af1c-5b5f4b02fd8d",
   "metadata": {},
   "outputs": [],
   "source": [
    "## Exercice 12 :\n",
    "# vous êtes professeur dans une classe qui compte 8 apprenant, vous voulez effectuer une petite étude sur l'âge de vos élèves\n",
    "# écrivez un petit programme qui demande à chaque élève de rentrer son âge dans une liste\n",
    "# calculez l'âge moyen, l'âge médian, le minimum et le maximum de votre effectif "
   ]
  },
  {
   "cell_type": "code",
   "execution_count": 266,
   "id": "ddb87547-0e81-400b-bb03-f002e2940b91",
   "metadata": {},
   "outputs": [
    {
     "name": "stdout",
     "output_type": "stream",
     "text": [
      "élève 1 - donne-moi ton âge :\n"
     ]
    },
    {
     "name": "stdin",
     "output_type": "stream",
     "text": [
      " 19\n"
     ]
    },
    {
     "name": "stdout",
     "output_type": "stream",
     "text": [
      "élève 2 - donne-moi ton âge :\n"
     ]
    },
    {
     "name": "stdin",
     "output_type": "stream",
     "text": [
      " 21\n"
     ]
    },
    {
     "name": "stdout",
     "output_type": "stream",
     "text": [
      "élève 3 - donne-moi ton âge :\n"
     ]
    },
    {
     "name": "stdin",
     "output_type": "stream",
     "text": [
      " 22\n"
     ]
    },
    {
     "name": "stdout",
     "output_type": "stream",
     "text": [
      "élève 4 - donne-moi ton âge :\n"
     ]
    },
    {
     "name": "stdin",
     "output_type": "stream",
     "text": [
      " 22\n"
     ]
    },
    {
     "name": "stdout",
     "output_type": "stream",
     "text": [
      "élève 5 - donne-moi ton âge :\n"
     ]
    },
    {
     "name": "stdin",
     "output_type": "stream",
     "text": [
      " 25\n"
     ]
    },
    {
     "name": "stdout",
     "output_type": "stream",
     "text": [
      "élève 6 - donne-moi ton âge :\n"
     ]
    },
    {
     "name": "stdin",
     "output_type": "stream",
     "text": [
      " 28\n"
     ]
    },
    {
     "name": "stdout",
     "output_type": "stream",
     "text": [
      "élève 7 - donne-moi ton âge :\n"
     ]
    },
    {
     "name": "stdin",
     "output_type": "stream",
     "text": [
      " 23\n"
     ]
    },
    {
     "name": "stdout",
     "output_type": "stream",
     "text": [
      "élève 8 - donne-moi ton âge :\n"
     ]
    },
    {
     "name": "stdin",
     "output_type": "stream",
     "text": [
      " 21\n"
     ]
    },
    {
     "data": {
      "text/plain": [
       "[19, 21, 22, 22, 25, 28, 23, 21]"
      ]
     },
     "execution_count": 266,
     "metadata": {},
     "output_type": "execute_result"
    }
   ],
   "source": [
    "# corrigé : \n",
    "# reflexion : \n",
    "# déclarer la variable qui stock l'éffectif de la classe\n",
    "# de quoi parle le sujet ? - il s'agit d'une étude de la statistique descriptive sur l'âge de la classe\n",
    "# comment le faire ? - construire une la liste qui se rempli progressivement des âges pour les 8 élèves\n",
    "# procéder la descriptive\n",
    "\n",
    "n = 8 # effectif de la classe\n",
    "age_liste  = []\n",
    "\n",
    "for i in range (8):\n",
    "    i+=1\n",
    "    print('élève',i, '- donne-moi ton âge :')\n",
    "    age  = int(input())\n",
    "    age_liste.append(age) # méthode pour ajouter à une liste préalablement vide\n",
    "age_liste"
   ]
  },
  {
   "cell_type": "code",
   "execution_count": 179,
   "id": "8c5d5bde-b54a-4a4f-9710-85ec58d0503b",
   "metadata": {},
   "outputs": [],
   "source": [
    "# analyse descriptive sur les âges\n",
    "# import de la librairie dédiée aux fonctions à utiliser\n",
    "import statistics as st"
   ]
  },
  {
   "cell_type": "code",
   "execution_count": 268,
   "id": "4367f8b9-e119-4b4f-9fd6-0eae71169610",
   "metadata": {},
   "outputs": [
    {
     "name": "stdout",
     "output_type": "stream",
     "text": [
      "age moyen : 23\n",
      "age médian : 22.0\n",
      "age minimum : 19 \n",
      "age maximum : 28\n"
     ]
    }
   ],
   "source": [
    "# les calculs \n",
    "# age moyen : \n",
    "print ('age moyen :', round(st.mean(age_liste)))\n",
    "# age médian :\n",
    "print('age médian :', st.median(age_liste))\n",
    "# age minimum et maximum\n",
    "print('age minimum :', min(age_liste),'\\nage maximum :', max(age_liste))"
   ]
  },
  {
   "cell_type": "code",
   "execution_count": 269,
   "id": "4556d5ca-09f6-45d9-9d25-1846fcc38d3a",
   "metadata": {},
   "outputs": [
    {
     "data": {
      "text/plain": [
       "[19, 21, 21, 22, 22, 23, 25, 28]"
      ]
     },
     "execution_count": 269,
     "metadata": {},
     "output_type": "execute_result"
    }
   ],
   "source": [
    "# trier cette liste par ordre croissant : usage de la fonction sorted()\n",
    "sorted(age_liste)"
   ]
  },
  {
   "cell_type": "code",
   "execution_count": null,
   "id": "e51568a8-499c-4a80-a865-4cfa2aace1cc",
   "metadata": {},
   "outputs": [],
   "source": [
    "## Exercie 13 :\n",
    "# ajouter trois éléments de votre choix à al liste courses\n",
    "# appliquer la methode .sort() à la liste courses\n",
    "# afficher la liste courses. quel constat fait ? "
   ]
  },
  {
   "cell_type": "code",
   "execution_count": 334,
   "id": "e490fa63-5b19-45ec-8a31-07bf338d030f",
   "metadata": {},
   "outputs": [
    {
     "data": {
      "text/plain": [
       "['farine',\n",
       " 'sucre',\n",
       " 'pattes',\n",
       " 'légumes',\n",
       " 'viande',\n",
       " 'lait',\n",
       " 'chocolat',\n",
       " 'crème glacée',\n",
       " 'biscuit']"
      ]
     },
     "execution_count": 334,
     "metadata": {},
     "output_type": "execute_result"
    }
   ],
   "source": [
    "# corrigé :\n",
    "# rappeler le contenu de la liste\n",
    "courses"
   ]
  },
  {
   "cell_type": "code",
   "execution_count": 335,
   "id": "26c43761-cd1e-4336-8451-b13b3ca42318",
   "metadata": {},
   "outputs": [
    {
     "data": {
      "text/plain": [
       "['farine',\n",
       " 'sucre',\n",
       " 'pattes',\n",
       " 'légumes',\n",
       " 'viande',\n",
       " 'lait',\n",
       " 'chocolat',\n",
       " 'crème glacée',\n",
       " 'biscuit',\n",
       " 'cahier',\n",
       " 'bloc-note',\n",
       " 'laptop',\n",
       " 'lampe',\n",
       " 'savno']"
      ]
     },
     "execution_count": 335,
     "metadata": {},
     "output_type": "execute_result"
    }
   ],
   "source": [
    "# ajoute de nouveaux éléments\n",
    "courses.extend(['cahier', 'bloc-note', 'laptop', 'lampe', 'savno'])\n",
    "courses"
   ]
  },
  {
   "cell_type": "code",
   "execution_count": 338,
   "id": "264e4a7f-c498-47bd-a64d-8c14c7318d0e",
   "metadata": {},
   "outputs": [
    {
     "data": {
      "text/plain": [
       "['biscuit',\n",
       " 'bloc-note',\n",
       " 'cahier',\n",
       " 'chocolat',\n",
       " 'crème glacée',\n",
       " 'farine',\n",
       " 'lait',\n",
       " 'lampe',\n",
       " 'laptop',\n",
       " 'légumes',\n",
       " 'pattes',\n",
       " 'savno',\n",
       " 'sucre',\n",
       " 'viande']"
      ]
     },
     "execution_count": 338,
     "metadata": {},
     "output_type": "execute_result"
    }
   ],
   "source": [
    "# tri de la liste \n",
    "# methode .sort()\n",
    "courses.sort()\n",
    "courses\n",
    "# tri qui modifie définitvement l'ordre de la liste à la != de la fonction sorted()"
   ]
  },
  {
   "cell_type": "code",
   "execution_count": 340,
   "id": "d3452855-48a0-42fc-9394-a654163c11e9",
   "metadata": {},
   "outputs": [
    {
     "data": {
      "text/plain": [
       "'savno'"
      ]
     },
     "execution_count": 340,
     "metadata": {},
     "output_type": "execute_result"
    }
   ],
   "source": [
    "# on remarque une chose !\n",
    "courses[11]"
   ]
  },
  {
   "cell_type": "code",
   "execution_count": null,
   "id": "c6b7aed0-20f6-436f-9fa8-a496ff632f45",
   "metadata": {},
   "outputs": [],
   "source": [
    "# il s'agit sans doute du mot 'savon' et non 'savno'\n",
    "# corriger l'orthographe de l'élément"
   ]
  },
  {
   "cell_type": "code",
   "execution_count": 341,
   "id": "36d8200f-bc13-450b-9229-8c7187a61f2b",
   "metadata": {},
   "outputs": [
    {
     "data": {
      "text/plain": [
       "['biscuit',\n",
       " 'bloc-note',\n",
       " 'cahier',\n",
       " 'chocolat',\n",
       " 'crème glacée',\n",
       " 'farine',\n",
       " 'lait',\n",
       " 'lampe',\n",
       " 'laptop',\n",
       " 'légumes',\n",
       " 'pattes',\n",
       " 'savon de toilette',\n",
       " 'sucre',\n",
       " 'viande']"
      ]
     },
     "execution_count": 341,
     "metadata": {},
     "output_type": "execute_result"
    }
   ],
   "source": [
    "# corriger / modifier l'orthographe / changer ou remplacer un élément de liste en gardant le même index\n",
    "correction = courses.index('savno')\n",
    "courses[correction] = 'savon de toilette'\n",
    "courses"
   ]
  },
  {
   "cell_type": "code",
   "execution_count": 342,
   "id": "1a25843d-8d01-45b0-8049-aca694f8ba9c",
   "metadata": {},
   "outputs": [
    {
     "data": {
      "text/plain": [
       "'savon de toilette'"
      ]
     },
     "execution_count": 342,
     "metadata": {},
     "output_type": "execute_result"
    }
   ],
   "source": [
    "# vérifier l'index de la valeur nouvellement remplacée\n",
    "courses[11]"
   ]
  },
  {
   "cell_type": "markdown",
   "id": "fea1ff78-b5f6-426c-9cf1-3bec665427c3",
   "metadata": {},
   "source": [
    "#### 2 - Le dictionnaire"
   ]
  },
  {
   "cell_type": "code",
   "execution_count": null,
   "id": "4aeaa320-7496-4766-9a3c-ad7d1f43e53f",
   "metadata": {},
   "outputs": [],
   "source": [
    "# le dictionnaire est une collection de paires clé-valeur "
   ]
  },
  {
   "cell_type": "code",
   "execution_count": 208,
   "id": "68a01827-59cb-45c2-bdac-3e1d035e15e8",
   "metadata": {},
   "outputs": [
    {
     "data": {
      "text/plain": [
       "{'nom': 'Hiver Segna', 'age': 31, 'pays': 'congo', 'cours': 'python'}"
      ]
     },
     "execution_count": 208,
     "metadata": {},
     "output_type": "execute_result"
    }
   ],
   "source": [
    "# création d'un dictionnaire \n",
    "auteur = {'nom':'Hiver Segna', 'age':31, 'pays':'congo', 'cours':'python'}\n",
    "auteur"
   ]
  },
  {
   "cell_type": "code",
   "execution_count": 343,
   "id": "0bb1ac8b-4334-48e5-a41d-0609f1de61e8",
   "metadata": {},
   "outputs": [
    {
     "data": {
      "text/plain": [
       "dict_keys(['nom', 'age', 'pays', 'cours', 'certificat'])"
      ]
     },
     "execution_count": 343,
     "metadata": {},
     "output_type": "execute_result"
    }
   ],
   "source": [
    "# appelle aux clé du dictionnaire\n",
    "# méthode .keys()\n",
    "auteur.keys()"
   ]
  },
  {
   "cell_type": "code",
   "execution_count": 206,
   "id": "eb557f01-c3da-44e1-9135-036202bbc6cb",
   "metadata": {},
   "outputs": [
    {
     "data": {
      "text/plain": [
       "'Hiver Segna'"
      ]
     },
     "execution_count": 206,
     "metadata": {},
     "output_type": "execute_result"
    }
   ],
   "source": [
    "# récupérer la valeur de la clé 'nom'\n",
    "auteur['nom']"
   ]
  },
  {
   "cell_type": "code",
   "execution_count": 344,
   "id": "c5886fba-8922-47c2-b618-72740ea61298",
   "metadata": {},
   "outputs": [
    {
     "data": {
      "text/plain": [
       "dict_values(['Hiver Segna', 31, 'USA', 'python', ['PL-300', 'AZ-504', 'MIT']])"
      ]
     },
     "execution_count": 344,
     "metadata": {},
     "output_type": "execute_result"
    }
   ],
   "source": [
    "# récupérer toutes les valeurs du dictionnaire\n",
    "# méthode .values()\n",
    "auteur.values()"
   ]
  },
  {
   "cell_type": "code",
   "execution_count": 210,
   "id": "96f04023-8899-44fd-818b-18767b38cac8",
   "metadata": {},
   "outputs": [
    {
     "data": {
      "text/plain": [
       "{'nom': 'Hiver Segna', 'age': 31, 'pays': 'USA', 'cours': 'python'}"
      ]
     },
     "execution_count": 210,
     "metadata": {},
     "output_type": "execute_result"
    }
   ],
   "source": [
    "# changer la valeur d'une clé\n",
    "auteur['pays']='USA'\n",
    "auteur"
   ]
  },
  {
   "cell_type": "code",
   "execution_count": 217,
   "id": "3ff8f7b6-b8bf-4c4b-9212-28d25d973af8",
   "metadata": {},
   "outputs": [
    {
     "data": {
      "text/plain": [
       "{'nom': 'Hiver Segna',\n",
       " 'age': 31,\n",
       " 'pays': 'USA',\n",
       " 'cours': 'python',\n",
       " 'certificat': ['PL-300', 'AZ-504', 'MIT']}"
      ]
     },
     "execution_count": 217,
     "metadata": {},
     "output_type": "execute_result"
    }
   ],
   "source": [
    "# ajouter une nouvelle paire  clé-valeur\n",
    "auteur['certificat']=['PL-300', 'AZ-504', 'MIT']\n",
    "auteur"
   ]
  },
  {
   "cell_type": "code",
   "execution_count": null,
   "id": "5fbdb8e1-281c-4d0b-a84f-953d074f5bea",
   "metadata": {},
   "outputs": [],
   "source": [
    "## Exercice 14 : \n",
    "# soit la liste de disctionnaire donnant des informations sur certains grands acteurs de Hollywood\n",
    "# calculer le revenu moyen des acteurs (en million de dollards)\n",
    "# afficher les informations des acteurs dont le salaire est supérieur au salaire moyen"
   ]
  },
  {
   "cell_type": "code",
   "execution_count": 237,
   "id": "ba636591-6f2e-4df8-a4f5-de0af27b5cc7",
   "metadata": {},
   "outputs": [
    {
     "data": {
      "text/plain": [
       "[{'acteur': 'Tom Cruse',\n",
       "  'revenu': 78.4,\n",
       "  'films': ['Mission impossible', 'Top Gun']},\n",
       " {'acteur': 'Chris Hemsworth',\n",
       "  'revenu': 82.4,\n",
       "  'films': ['Vacation', 'Thor', 'Rangnarok']},\n",
       " {'acteur': 'Michael B Jordan',\n",
       "  'revenu': 76,\n",
       "  'films': ['Black panther', 'Appolo Crid', 'The Siner']},\n",
       " {'acteur': 'Jackie Chan',\n",
       "  'revenu': 87,\n",
       "  'films': ['Police story', 'Maitre karate', 'Shaolin', 'Karate kid']},\n",
       " {'acteur': 'Leonardo DiCaprio',\n",
       "  'revenu': 75,\n",
       "  'films': ['Titanic', 'le Loup de wall street']}]"
      ]
     },
     "execution_count": 237,
     "metadata": {},
     "output_type": "execute_result"
    }
   ],
   "source": [
    "# corrigé :\n",
    "acteurs = [{'acteur' : 'Tom Cruse', 'revenu' : 78.4, 'films': ['Mission impossible', 'Top Gun']},\n",
    "           {'acteur' : 'Chris Hemsworth', 'revenu' : 82.4, 'films' : ['Vacation', 'Thor', 'Rangnarok']},\n",
    "           {'acteur' : 'Michael B Jordan', 'revenu' : 76, 'films' : ['Black panther', 'Appolo Crid', 'The Siner']},\n",
    "           {'acteur' : 'Jackie Chan', 'revenu' :87, 'films' : ['Police story', 'Maitre karate', 'Shaolin', 'Karate kid']},\n",
    "           {'acteur' : 'Leonardo DiCaprio', 'revenu' : 75, 'films' : ['Titanic', 'le Loup de wall street']}]\n",
    "acteurs"
   ]
  },
  {
   "cell_type": "code",
   "execution_count": 238,
   "id": "ccfa3aa7-d516-4e51-9549-9769b1f57e86",
   "metadata": {},
   "outputs": [
    {
     "data": {
      "text/plain": [
       "[78.4, 82.4, 76, 87, 75]"
      ]
     },
     "execution_count": 238,
     "metadata": {},
     "output_type": "execute_result"
    }
   ],
   "source": [
    "# corrigé :\n",
    "# les données actuelles sont dans une liste de dictionnaire - cas non idéal pour les manipuler\n",
    "# créer donc une liste vide à remplir pour stocker les revenus des acteurs \n",
    "revenu = []\n",
    "for acteur in acteurs:\n",
    "    r = acteur['revenu']\n",
    "    revenu.append(r)\n",
    "revenu"
   ]
  },
  {
   "cell_type": "code",
   "execution_count": 345,
   "id": "f92ab7b8-6b53-45a3-b275-ee66c366f275",
   "metadata": {},
   "outputs": [],
   "source": [
    "# import la librairie idéale pour l'utilisation de la fonction moyenne\n",
    "import statistics as st"
   ]
  },
  {
   "cell_type": "code",
   "execution_count": 239,
   "id": "813f2953-74d8-418e-9f55-cb54b72d59de",
   "metadata": {},
   "outputs": [
    {
     "data": {
      "text/plain": [
       "79.76"
      ]
     },
     "execution_count": 239,
     "metadata": {},
     "output_type": "execute_result"
    }
   ],
   "source": [
    "# calcul du revenu moyen \n",
    "r_moy = st.mean(revenu)\n",
    "r_moy"
   ]
  },
  {
   "cell_type": "code",
   "execution_count": 240,
   "id": "884e2690-4a4a-4802-91d1-31ab71ad210a",
   "metadata": {},
   "outputs": [
    {
     "name": "stdout",
     "output_type": "stream",
     "text": [
      "{'acteur': 'Chris Hemsworth', 'revenu': 82.4, 'films': ['Vacation', 'Thor', 'Rangnarok']}\n",
      "{'acteur': 'Jackie Chan', 'revenu': 87, 'films': ['Police story', 'Maitre karate', 'Shaolin', 'Karate kid']}\n"
     ]
    }
   ],
   "source": [
    "# écrire la boucle for - si pour afficher ceux dont le revenu est > r_moy\n",
    "for acteur in acteurs:\n",
    "    if acteur ['revenu'] > r_moy:\n",
    "        print(acteur)"
   ]
  },
  {
   "cell_type": "markdown",
   "id": "3b13745c-740a-4cbb-82a0-9f1dbb2aee2a",
   "metadata": {},
   "source": [
    "#### 3 - La Data frame"
   ]
  },
  {
   "cell_type": "code",
   "execution_count": null,
   "id": "20c87f40-ca38-42ea-baef-dd75a7b011fb",
   "metadata": {},
   "outputs": [],
   "source": [
    "# strucure de données en 2D :  ligne et colonne"
   ]
  },
  {
   "cell_type": "code",
   "execution_count": 348,
   "id": "34670ac4-6eab-4377-8775-113324fb2ae2",
   "metadata": {},
   "outputs": [],
   "source": [
    "# importer la librairie de manipulation des dataframes\n",
    "import pandas as pd"
   ]
  },
  {
   "cell_type": "code",
   "execution_count": null,
   "id": "3c12d862-7b95-4eb5-9b47-654bf37c479b",
   "metadata": {},
   "outputs": [],
   "source": [
    "# ceci veut dire :  appel des fonctions de la librairie pandas - je lui donne pour alias 'pd'\n",
    "# ainsi, les fonction s'écriront : alias.fonction(). ex : pd.fonction()"
   ]
  },
  {
   "cell_type": "code",
   "execution_count": null,
   "id": "29a7da16-982e-4aa5-b169-316655168f17",
   "metadata": {},
   "outputs": [],
   "source": [
    "## Exercie 15 :\n",
    "# créer un dictionnaire pour stocker les notes de 5 élèves (maths, français)\n",
    "# transformer ce disctionnaire en dataframe \n",
    "# transposer la dataframe créée\n",
    "# les données :  Ryan(18, 16), Elisa(20, 12), Robert(14, 15), Martine(20, 20)"
   ]
  },
  {
   "cell_type": "code",
   "execution_count": 347,
   "id": "2321ac28-078a-4d8b-9104-e5c3d7007d10",
   "metadata": {},
   "outputs": [
    {
     "data": {
      "text/plain": [
       "{'Riyan': [18, 18], 'Elisa': [20, 12], 'Robert': [14, 15], 'Martine': [20, 20]}"
      ]
     },
     "execution_count": 347,
     "metadata": {},
     "output_type": "execute_result"
    }
   ],
   "source": [
    "# corrigé :\n",
    "notes = {'Riyan' : [18, 18], \n",
    "         'Elisa' : [20, 12], \n",
    "         'Robert' : [14, 15], \n",
    "         'Martine' : [20, 20]}\n",
    "notes"
   ]
  },
  {
   "cell_type": "code",
   "execution_count": 244,
   "id": "60585e67-1cfc-4e7f-80ce-771b706b62cf",
   "metadata": {},
   "outputs": [
    {
     "data": {
      "text/html": [
       "<div>\n",
       "<style scoped>\n",
       "    .dataframe tbody tr th:only-of-type {\n",
       "        vertical-align: middle;\n",
       "    }\n",
       "\n",
       "    .dataframe tbody tr th {\n",
       "        vertical-align: top;\n",
       "    }\n",
       "\n",
       "    .dataframe thead th {\n",
       "        text-align: right;\n",
       "    }\n",
       "</style>\n",
       "<table border=\"1\" class=\"dataframe\">\n",
       "  <thead>\n",
       "    <tr style=\"text-align: right;\">\n",
       "      <th></th>\n",
       "      <th>Riyan</th>\n",
       "      <th>Elisa</th>\n",
       "      <th>Robert</th>\n",
       "      <th>Martine</th>\n",
       "    </tr>\n",
       "  </thead>\n",
       "  <tbody>\n",
       "    <tr>\n",
       "      <th>0</th>\n",
       "      <td>18</td>\n",
       "      <td>20</td>\n",
       "      <td>14</td>\n",
       "      <td>20</td>\n",
       "    </tr>\n",
       "    <tr>\n",
       "      <th>1</th>\n",
       "      <td>18</td>\n",
       "      <td>12</td>\n",
       "      <td>15</td>\n",
       "      <td>20</td>\n",
       "    </tr>\n",
       "  </tbody>\n",
       "</table>\n",
       "</div>"
      ],
      "text/plain": [
       "   Riyan  Elisa  Robert  Martine\n",
       "0     18     20      14       20\n",
       "1     18     12      15       20"
      ]
     },
     "execution_count": 244,
     "metadata": {},
     "output_type": "execute_result"
    }
   ],
   "source": [
    "# transformer le disctionnaire en dataframe \n",
    "df = pd.DataFrame(notes)\n",
    "df"
   ]
  },
  {
   "cell_type": "code",
   "execution_count": 245,
   "id": "5b93e359-08f6-4e73-987f-eed161631447",
   "metadata": {},
   "outputs": [
    {
     "data": {
      "text/html": [
       "<div>\n",
       "<style scoped>\n",
       "    .dataframe tbody tr th:only-of-type {\n",
       "        vertical-align: middle;\n",
       "    }\n",
       "\n",
       "    .dataframe tbody tr th {\n",
       "        vertical-align: top;\n",
       "    }\n",
       "\n",
       "    .dataframe thead th {\n",
       "        text-align: right;\n",
       "    }\n",
       "</style>\n",
       "<table border=\"1\" class=\"dataframe\">\n",
       "  <thead>\n",
       "    <tr style=\"text-align: right;\">\n",
       "      <th></th>\n",
       "      <th>0</th>\n",
       "      <th>1</th>\n",
       "    </tr>\n",
       "  </thead>\n",
       "  <tbody>\n",
       "    <tr>\n",
       "      <th>Riyan</th>\n",
       "      <td>18</td>\n",
       "      <td>18</td>\n",
       "    </tr>\n",
       "    <tr>\n",
       "      <th>Elisa</th>\n",
       "      <td>20</td>\n",
       "      <td>12</td>\n",
       "    </tr>\n",
       "    <tr>\n",
       "      <th>Robert</th>\n",
       "      <td>14</td>\n",
       "      <td>15</td>\n",
       "    </tr>\n",
       "    <tr>\n",
       "      <th>Martine</th>\n",
       "      <td>20</td>\n",
       "      <td>20</td>\n",
       "    </tr>\n",
       "  </tbody>\n",
       "</table>\n",
       "</div>"
      ],
      "text/plain": [
       "          0   1\n",
       "Riyan    18  18\n",
       "Elisa    20  12\n",
       "Robert   14  15\n",
       "Martine  20  20"
      ]
     },
     "execution_count": 245,
     "metadata": {},
     "output_type": "execute_result"
    }
   ],
   "source": [
    "# transposer le tableau de données\n",
    "df = df.T\n",
    "df"
   ]
  },
  {
   "cell_type": "code",
   "execution_count": 246,
   "id": "9d71f798-d7c4-4eaf-b967-c35dc4ab817f",
   "metadata": {},
   "outputs": [
    {
     "data": {
      "text/html": [
       "<div>\n",
       "<style scoped>\n",
       "    .dataframe tbody tr th:only-of-type {\n",
       "        vertical-align: middle;\n",
       "    }\n",
       "\n",
       "    .dataframe tbody tr th {\n",
       "        vertical-align: top;\n",
       "    }\n",
       "\n",
       "    .dataframe thead th {\n",
       "        text-align: right;\n",
       "    }\n",
       "</style>\n",
       "<table border=\"1\" class=\"dataframe\">\n",
       "  <thead>\n",
       "    <tr style=\"text-align: right;\">\n",
       "      <th></th>\n",
       "      <th>Maths</th>\n",
       "      <th>Francais</th>\n",
       "    </tr>\n",
       "  </thead>\n",
       "  <tbody>\n",
       "    <tr>\n",
       "      <th>Riyan</th>\n",
       "      <td>18</td>\n",
       "      <td>18</td>\n",
       "    </tr>\n",
       "    <tr>\n",
       "      <th>Elisa</th>\n",
       "      <td>20</td>\n",
       "      <td>12</td>\n",
       "    </tr>\n",
       "    <tr>\n",
       "      <th>Robert</th>\n",
       "      <td>14</td>\n",
       "      <td>15</td>\n",
       "    </tr>\n",
       "    <tr>\n",
       "      <th>Martine</th>\n",
       "      <td>20</td>\n",
       "      <td>20</td>\n",
       "    </tr>\n",
       "  </tbody>\n",
       "</table>\n",
       "</div>"
      ],
      "text/plain": [
       "         Maths  Francais\n",
       "Riyan       18        18\n",
       "Elisa       20        12\n",
       "Robert      14        15\n",
       "Martine     20        20"
      ]
     },
     "execution_count": 246,
     "metadata": {},
     "output_type": "execute_result"
    }
   ],
   "source": [
    "# renommer les colonnes \n",
    "df.columns = ['Maths', 'Francais']\n",
    "df"
   ]
  },
  {
   "cell_type": "code",
   "execution_count": 248,
   "id": "2417a192-863b-4b36-a299-f5d8cbfd2521",
   "metadata": {},
   "outputs": [
    {
     "data": {
      "text/plain": [
       "Index(['Riyan', 'Elisa', 'Robert', 'Martine'], dtype='object')"
      ]
     },
     "execution_count": 248,
     "metadata": {},
     "output_type": "execute_result"
    }
   ],
   "source": [
    "# trouver les indexes de la dataframe \n",
    "df.index"
   ]
  },
  {
   "cell_type": "code",
   "execution_count": null,
   "id": "16abab40-ed13-45e9-bd75-991a6292bfb0",
   "metadata": {},
   "outputs": [],
   "source": [
    "# à la != des listes, dans la df la méthode .index ne donne pas de numéro mais des noms de ligne"
   ]
  },
  {
   "cell_type": "code",
   "execution_count": null,
   "id": "e0f6cab1-e8f1-4e12-b44b-aebda6897121",
   "metadata": {},
   "outputs": [],
   "source": [
    "# cette partie 'est qu'une introduction à la dataframe"
   ]
  },
  {
   "cell_type": "code",
   "execution_count": null,
   "id": "a6c65778-d0c2-4ed9-afea-be3d8f531594",
   "metadata": {},
   "outputs": [],
   "source": [
    "## Exercice 16 : \n",
    "# Etant donné 2 listes (voir cellule de code ci-desous)\n",
    "# écrivez un code avec une boucle for qui permet d'avoir l'affichage ci-dessous :\n",
    "'''\n",
    "Dada 29\n",
    "Maryse 30\n",
    "Dylan 34\n",
    "Elise 36\n",
    "Stecy 19\n",
    "'''"
   ]
  },
  {
   "cell_type": "code",
   "execution_count": 252,
   "id": "434d5d47-a99a-47a9-bdf4-bc8ee3670247",
   "metadata": {},
   "outputs": [],
   "source": [
    "# déclaration de listes\n",
    "liste_etu = ['Dada', 'Maryse', 'Dylan', 'Elise', 'Stecy'] # liste 1\n",
    "liste_age = [29,30,34,36,19] # liste 2"
   ]
  },
  {
   "cell_type": "code",
   "execution_count": 253,
   "id": "c7f80589-7190-4b4f-85f9-b762e1152818",
   "metadata": {},
   "outputs": [
    {
     "name": "stdout",
     "output_type": "stream",
     "text": [
      "['Dada', 'Maryse', 'Dylan', 'Elise', 'Stecy']\n",
      "[29, 30, 34, 36, 19]\n"
     ]
    }
   ],
   "source": [
    "# affichage des 2 listes\n",
    "print(liste_etu)\n",
    "print(liste_age)"
   ]
  },
  {
   "cell_type": "code",
   "execution_count": 255,
   "id": "2d9a44c2-60e3-423f-a51e-9fd457f6f8cc",
   "metadata": {},
   "outputs": [
    {
     "name": "stdout",
     "output_type": "stream",
     "text": [
      "Dada 29\n",
      "Maryse 30\n",
      "Dylan 34\n",
      "Elise 36\n",
      "Stecy 19\n"
     ]
    }
   ],
   "source": [
    "# corrigé\n",
    "#on veut rendre le code dynamique - au lieu d'utiliser range(5) : nb liste_age, plutot range(len(x))\n",
    "for i in range(len(liste_age)):\n",
    "    print(liste_etu[i], liste_age[i])"
   ]
  },
  {
   "cell_type": "markdown",
   "id": "4f2466e1-4f17-4d83-9c8d-972a36b6636a",
   "metadata": {},
   "source": [
    "## IV - Les fonctions"
   ]
  },
  {
   "cell_type": "markdown",
   "id": "fc2c326b-2c94-4e80-8446-abd870df6ee6",
   "metadata": {},
   "source": [
    "#### 1 - Les fonctions avec mot clé 'def'"
   ]
  },
  {
   "cell_type": "code",
   "execution_count": 353,
   "id": "d6a14486-145e-47c5-9655-349ace744141",
   "metadata": {},
   "outputs": [
    {
     "name": "stdout",
     "output_type": "stream",
     "text": [
      "bonjour monsieur/madame\n",
      "comment allez-vous ?\n"
     ]
    }
   ],
   "source": [
    "# définition d'une fonction sans argument : fonction statique\n",
    "# fonction qui renvoi du texte / phrase\n",
    "def mafonction():\n",
    "    print('bonjour monsieur/madame\\ncomment allez-vous ?')\n",
    "# appelation de la fonction\n",
    "mafonction()"
   ]
  },
  {
   "cell_type": "code",
   "execution_count": 354,
   "id": "e6a52ded-6ea6-4285-b9f3-8717c4c0d803",
   "metadata": {},
   "outputs": [
    {
     "name": "stdout",
     "output_type": "stream",
     "text": [
      "bonjour Bonheur \n",
      "comment allez-vous ?\n"
     ]
    }
   ],
   "source": [
    "# défition de fonction avec argument : fonction dynamique\n",
    "def mafonction(nom):\n",
    "    print('bonjour', nom,'\\ncomment allez-vous ?')\n",
    "mafonction('Bonheur')"
   ]
  },
  {
   "cell_type": "code",
   "execution_count": 358,
   "id": "a164faff-378a-4070-ab17-048b0185fe91",
   "metadata": {},
   "outputs": [],
   "source": [
    "# définir une fonction stockée dans une variable\n",
    "def square(a):\n",
    "    return a**2\n",
    "# la fonction ici définie donne le carré du nombre a"
   ]
  },
  {
   "cell_type": "code",
   "execution_count": 359,
   "id": "ee9ca8bc-698b-4d2f-bc72-519f27c8d8b9",
   "metadata": {},
   "outputs": [
    {
     "data": {
      "text/plain": [
       "25"
      ]
     },
     "execution_count": 359,
     "metadata": {},
     "output_type": "execute_result"
    }
   ],
   "source": [
    "# test de la fonction square()\n",
    "z = square(5) # l'argument a : 5 >>> square(a) = 5**2\n",
    "z"
   ]
  },
  {
   "cell_type": "code",
   "execution_count": 360,
   "id": "63be2258-b043-42e5-a866-1f05aca1ba90",
   "metadata": {},
   "outputs": [
    {
     "data": {
      "text/plain": [
       "250"
      ]
     },
     "execution_count": 360,
     "metadata": {},
     "output_type": "execute_result"
    }
   ],
   "source": [
    "# je multiplie cette variable par 10\n",
    "z*10"
   ]
  },
  {
   "cell_type": "code",
   "execution_count": 361,
   "id": "14ff3edd-f2e9-4386-97d6-4eb17d5c8c61",
   "metadata": {},
   "outputs": [
    {
     "name": "stdout",
     "output_type": "stream",
     "text": [
      "bonjour Hiver Segna \n",
      "comment allez-vous ?\n"
     ]
    }
   ],
   "source": [
    "# fonction à plus d'un argument\n",
    "def mafonction(prenom, nom):\n",
    "    print('bonjour', prenom, nom,'\\ncomment allez-vous ?')\n",
    "mafonction ('Hiver', 'Segna')"
   ]
  },
  {
   "cell_type": "code",
   "execution_count": 363,
   "id": "6736cedf-2ff3-490b-97a7-f83daa1384c3",
   "metadata": {},
   "outputs": [],
   "source": [
    "# définir une fonction qui fait la somme de 2 nombres\n",
    "def somme(a,b):\n",
    "    return a+b"
   ]
  },
  {
   "cell_type": "code",
   "execution_count": 364,
   "id": "659b9468-98ef-4caa-9214-37524ad0dd9d",
   "metadata": {},
   "outputs": [
    {
     "data": {
      "text/plain": [
       "30"
      ]
     },
     "execution_count": 364,
     "metadata": {},
     "output_type": "execute_result"
    }
   ],
   "source": [
    "# application de la fonction pour les nombre 10 et 20\n",
    "somme(10,20)"
   ]
  },
  {
   "cell_type": "code",
   "execution_count": 365,
   "id": "28bc24e4-41ae-4c0b-859a-26acdffbdfe2",
   "metadata": {},
   "outputs": [],
   "source": [
    "## Exercice 17 :\n",
    "# écrire une fonction qui a 2 arguments et qui retourne la somme de ces 2 arguments si ils sont de meme types\n",
    "# si les arguments ne sont pas de meme type, la fonction doit retourner la phrase : \n",
    "# 'impossible ! les arguments ne sont pas de même type'"
   ]
  },
  {
   "cell_type": "code",
   "execution_count": 372,
   "id": "ac4506f5-8d94-4498-b378-ad45c904734c",
   "metadata": {},
   "outputs": [],
   "source": [
    "# corrigé :\n",
    "def somme(a, b):\n",
    "    if type(a) == type(b):\n",
    "        return a+b\n",
    "    else:\n",
    "        print('impossible ! les arguments ne sont pas de même type')"
   ]
  },
  {
   "cell_type": "code",
   "execution_count": 373,
   "id": "4c83bd07-d01f-47f3-8bce-353da30e4907",
   "metadata": {},
   "outputs": [
    {
     "name": "stdout",
     "output_type": "stream",
     "text": [
      "impossible ! les arguments ne sont pas de même type\n"
     ]
    }
   ],
   "source": [
    "# déclaration de variables a et b\n",
    "a, b = 5, 7.5\n",
    "# appel de la fonction\n",
    "somme(a,b)"
   ]
  },
  {
   "cell_type": "code",
   "execution_count": 374,
   "id": "9096c3cf-5f31-4fbe-aaba-a241a216d8b3",
   "metadata": {},
   "outputs": [
    {
     "data": {
      "text/plain": [
       "'uriel'"
      ]
     },
     "execution_count": 374,
     "metadata": {},
     "output_type": "execute_result"
    }
   ],
   "source": [
    "# déclaration de variable \n",
    "a = 'uri'\n",
    "b = 'el'\n",
    "# appel de la fonction. si le critère est bon, le résultat :  concaténation des 2 variables\n",
    "somme(a,b)"
   ]
  },
  {
   "cell_type": "code",
   "execution_count": 382,
   "id": "19c5fffe-ebde-4941-a043-043cebd8c78d",
   "metadata": {},
   "outputs": [],
   "source": [
    "# fonction qui retourne plusieurs valeurs\n",
    "def soustraction_deuxsens(x,y):\n",
    "    valeur1 = x-y\n",
    "    valeur2 = y-x\n",
    "    return valeur1, valeur2"
   ]
  },
  {
   "cell_type": "code",
   "execution_count": 383,
   "id": "ed35600e-06f2-4815-a762-a99c052971ad",
   "metadata": {},
   "outputs": [
    {
     "data": {
      "text/plain": [
       "(-7, 7)"
      ]
     },
     "execution_count": 383,
     "metadata": {},
     "output_type": "execute_result"
    }
   ],
   "source": [
    "# déclaration de variables \n",
    "x, y = 3, 10\n",
    "# appel de la fonction\n",
    "soustraction_deuxsens(x,y)"
   ]
  },
  {
   "cell_type": "code",
   "execution_count": 385,
   "id": "c6d38d06-a35d-48cb-a38d-92411dba5ccf",
   "metadata": {},
   "outputs": [
    {
     "data": {
      "text/plain": [
       "tuple"
      ]
     },
     "execution_count": 385,
     "metadata": {},
     "output_type": "execute_result"
    }
   ],
   "source": [
    "# véficiation type de la valeur retourné\n",
    "t = soustraction_deuxsens(x,y)\n",
    "type(t)"
   ]
  },
  {
   "cell_type": "code",
   "execution_count": 387,
   "id": "563dca21-c7bd-4a52-b15c-faede411800e",
   "metadata": {},
   "outputs": [
    {
     "name": "stdout",
     "output_type": "stream",
     "text": [
      "-7\n",
      "7\n"
     ]
    }
   ],
   "source": [
    "# récupération des valeurs de cette plage coordonnées (tuple) (-7, 7) \n",
    "# affectation des coordonnées aux variables c et d\n",
    "c, d = t[0], t[1]\n",
    "print(c)\n",
    "print(d)"
   ]
  },
  {
   "cell_type": "markdown",
   "id": "1dad81c9-8c71-4066-8387-161c35e97574",
   "metadata": {},
   "source": [
    "#### 2 - Les fonctions avec mot clé 'lambda'"
   ]
  },
  {
   "cell_type": "code",
   "execution_count": null,
   "id": "c0c9606d-c8af-41b4-8ba1-62312a8bdc9d",
   "metadata": {},
   "outputs": [],
   "source": [
    "# les fonction écrit rapidement / à la volée sur une ligne de code"
   ]
  },
  {
   "cell_type": "code",
   "execution_count": 389,
   "id": "b6ecec9f-f47f-41b6-825f-fb7769bcbe40",
   "metadata": {},
   "outputs": [],
   "source": [
    "# écrire une fonction qui fait la somme de 2 variables\n",
    "somme_lambda = lambda a, b : a+b"
   ]
  },
  {
   "cell_type": "code",
   "execution_count": 390,
   "id": "5a66c2fb-83d3-4670-89f5-2386b8de48d2",
   "metadata": {},
   "outputs": [
    {
     "data": {
      "text/plain": [
       "13"
      ]
     },
     "execution_count": 390,
     "metadata": {},
     "output_type": "execute_result"
    }
   ],
   "source": [
    "# déclarer les variable a et b\n",
    "a, b = 5, 8\n",
    "# appel de la fonction\n",
    "somme_lambda(a,b)"
   ]
  },
  {
   "cell_type": "code",
   "execution_count": 520,
   "id": "e0755e07-7f84-4875-980e-41ff18a3bf84",
   "metadata": {},
   "outputs": [
    {
     "data": {
      "text/plain": [
       "['BAC', 'BTS', 'LICENCE', 'MASTER', 'MSC', 'MS', 'MBA', 'DOCTORAT']"
      ]
     },
     "execution_count": 520,
     "metadata": {},
     "output_type": "execute_result"
    }
   ],
   "source": [
    "# les fonction lambda est très bénéfique quand on veut construide des fonctions calculant des objets de liste itérable\n",
    "# elle se lie à la fonction map()\n",
    "diplomes = ['bac', 'bts', 'licence', 'master', 'msc', 'ms', 'mba','doctorat']\n",
    "\n",
    "# construire une fonction qui va transformer tous les éléments de notre liste en majiscule\n",
    "MAJ_diplomes = map(lambda x: x.upper(), diplomes)\n",
    "list(MAJ_diplomes)"
   ]
  },
  {
   "cell_type": "code",
   "execution_count": null,
   "id": "e3239241-85b5-4c96-922f-a2f69b84799f",
   "metadata": {},
   "outputs": [],
   "source": [
    "## Exercice 18 : \n",
    "# A partir de liste nombre = [4,2,5,9,3,10]\n",
    "# créer une autre liste composée des carrés des éléments de la liste\n",
    "# utiliser la fonction map() ainsi que le mot clé lambda"
   ]
  },
  {
   "cell_type": "code",
   "execution_count": 521,
   "id": "90f4f9d7-c538-4c35-97ed-7aff0997e5f8",
   "metadata": {},
   "outputs": [
    {
     "data": {
      "text/plain": [
       "[16, 4, 25, 81, 9, 100]"
      ]
     },
     "execution_count": 521,
     "metadata": {},
     "output_type": "execute_result"
    }
   ],
   "source": [
    "# corrigé :\n",
    "# construire la varialbe liste \n",
    "nombre = [4, 2, 5, 9,3 , 10]\n",
    "\n",
    "#construction de la fonction map(lambda...)\n",
    "carre = map(lambda x: x**2, nombre)\n",
    "list(carre)"
   ]
  },
  {
   "cell_type": "code",
   "execution_count": 522,
   "id": "06f15f6a-b4eb-4fac-89b0-b303e9185be2",
   "metadata": {},
   "outputs": [
    {
     "data": {
      "text/plain": [
       "['samwise', 'anthony']"
      ]
     },
     "execution_count": 522,
     "metadata": {},
     "output_type": "execute_result"
    }
   ],
   "source": [
    "# un autre bénéfice d'utiliser lambda c'est de l'associer à ala fonction filter()\n",
    "staff = ['samwise', 'maonon', 'pierre', 'jude', 'anthony','mayans', 'pan', 'mamy']\n",
    "\n",
    "# filter tous les noms dont la longueur est supérieur 6\n",
    "staf_filter = filter(lambda x: len(x)>6, staff) # x constituant les valeurs de la liste staff\n",
    "list(staf_filter)"
   ]
  },
  {
   "cell_type": "markdown",
   "id": "e372471c-7f44-4360-af4f-fb89fd9210e5",
   "metadata": {},
   "source": [
    "## V - Les listes de compréhension"
   ]
  },
  {
   "cell_type": "code",
   "execution_count": 403,
   "id": "8ea33de2-8a2f-45cb-85d7-3fd57f9eed2d",
   "metadata": {},
   "outputs": [],
   "source": [
    "# les liste de compréhension sont des outils qui permettent de créer complexes / calculées"
   ]
  },
  {
   "cell_type": "code",
   "execution_count": 407,
   "id": "0d8cc9f9-6525-4b73-a933-c7ead34c8cd4",
   "metadata": {},
   "outputs": [
    {
     "data": {
      "text/plain": [
       "[15, 25, 35, 45, 55]"
      ]
     },
     "execution_count": 407,
     "metadata": {},
     "output_type": "execute_result"
    }
   ],
   "source": [
    "# création d'une liste de compréhension\n",
    "# voici une liste simple existante\n",
    "nombre = [10, 20, 30, 40, 50]\n",
    "# on veut créer une 2e liste contenant les éléments de la première sommés de 5\n",
    "new_nombre = []\n",
    "for i in nombre:\n",
    "    new_nombre.append(i+5)\n",
    "new_nombre"
   ]
  },
  {
   "cell_type": "code",
   "execution_count": 408,
   "id": "0907a033-886e-4c56-9bbc-cad75346cbd4",
   "metadata": {},
   "outputs": [
    {
     "data": {
      "text/plain": [
       "[15, 25, 35, 45, 55]"
      ]
     },
     "execution_count": 408,
     "metadata": {},
     "output_type": "execute_result"
    }
   ],
   "source": [
    "# création de la même liste avec une liste de compréhension\n",
    "new_nombre2 = [i+5 for i in nombre]\n",
    "new_nombre2"
   ]
  },
  {
   "cell_type": "code",
   "execution_count": 523,
   "id": "2b300315-3f03-425a-a1bd-0ddece4e8b05",
   "metadata": {},
   "outputs": [
    {
     "data": {
      "text/plain": [
       "True"
      ]
     },
     "execution_count": 523,
     "metadata": {},
     "output_type": "execute_result"
    }
   ],
   "source": [
    "# vérifions si les 2 listes sont équivalentes\n",
    "new_nombre == new_nombre2"
   ]
  },
  {
   "cell_type": "code",
   "execution_count": null,
   "id": "b21c7aea-1bb1-442a-b08a-186050b82062",
   "metadata": {},
   "outputs": [],
   "source": [
    "## Exercice 19 :\n",
    "# considérant la liste : csi = ['docteur', 'infirmière', 'chercheur', 'sage-femme', 'médecin', 'chrirugien']\n",
    "# écrire une liste de compréhension qui produit une liste composée de 3 premiers caractères de chaque élément de liste"
   ]
  },
  {
   "cell_type": "code",
   "execution_count": 413,
   "id": "d5c8d9b8-3ee4-4fcd-8b46-e0100984e7dd",
   "metadata": {},
   "outputs": [
    {
     "data": {
      "text/plain": [
       "['doc', 'inf', 'che', 'sag', 'méd', 'chi']"
      ]
     },
     "execution_count": 413,
     "metadata": {},
     "output_type": "execute_result"
    }
   ],
   "source": [
    "csi = ['docteur', 'infirmière', 'chercheur', 'sage-femme', 'médecin', 'chirurgien']\n",
    "new_csi = [i[:3] for i in csi]\n",
    "new_csi"
   ]
  },
  {
   "cell_type": "code",
   "execution_count": null,
   "id": "14649fef-abff-4052-b71c-98b897c94e87",
   "metadata": {},
   "outputs": [],
   "source": [
    "## Exercice 20 :\n",
    "# écrire une liste de compréhension qui produit une liste composée des valeurs au carré des éléments de range 10"
   ]
  },
  {
   "cell_type": "code",
   "execution_count": 414,
   "id": "ee1a4101-2fb8-4a32-aa67-7ed04f67ae54",
   "metadata": {},
   "outputs": [
    {
     "data": {
      "text/plain": [
       "[0, 1, 4, 9, 16, 25, 36, 49, 64, 81]"
      ]
     },
     "execution_count": 414,
     "metadata": {},
     "output_type": "execute_result"
    }
   ],
   "source": [
    "liste = [i**2 for i in range(10)]\n",
    "liste"
   ]
  },
  {
   "cell_type": "markdown",
   "id": "80172188-81cf-4039-8953-69fc73aed4ec",
   "metadata": {},
   "source": [
    "## VI - Les librairies"
   ]
  },
  {
   "cell_type": "markdown",
   "id": "174048e4-bc2a-4ab7-beb3-fe236f4941f8",
   "metadata": {},
   "source": [
    "#### 1 - Librairie Numpy"
   ]
  },
  {
   "cell_type": "code",
   "execution_count": null,
   "id": "3f8dd33e-b453-48a5-9ee1-c2763f724252",
   "metadata": {},
   "outputs": [],
   "source": [
    "# Numpy est la librairie utilisée dans des projets de calcul numérique "
   ]
  },
  {
   "cell_type": "code",
   "execution_count": 415,
   "id": "9b0a0d37-7106-4d38-83e0-142a5198d367",
   "metadata": {},
   "outputs": [],
   "source": [
    "# importer la librairie numpy\n",
    "import numpy as np"
   ]
  },
  {
   "cell_type": "markdown",
   "id": "11801be8-d07e-4f97-9d67-af3773bd1277",
   "metadata": {},
   "source": [
    "##### 1- création des tbl numpy à partir d'une liste"
   ]
  },
  {
   "cell_type": "code",
   "execution_count": 491,
   "id": "7dcb119e-58c7-43a0-a9ee-7e49bbc80ee1",
   "metadata": {},
   "outputs": [
    {
     "data": {
      "text/plain": [
       "array([1, 2, 3, 4])"
      ]
     },
     "execution_count": 491,
     "metadata": {},
     "output_type": "execute_result"
    }
   ],
   "source": [
    "# créer un vecteur à partir d'une liste\n",
    "v = np.array([1, 2, 3, 4])\n",
    "v"
   ]
  },
  {
   "cell_type": "code",
   "execution_count": 417,
   "id": "e490aeda-6d7c-4c19-900d-1cdf4fcbb550",
   "metadata": {},
   "outputs": [
    {
     "data": {
      "text/plain": [
       "numpy.ndarray"
      ]
     },
     "execution_count": 417,
     "metadata": {},
     "output_type": "execute_result"
    }
   ],
   "source": [
    "type(v)"
   ]
  },
  {
   "cell_type": "code",
   "execution_count": null,
   "id": "6cbe4f45-0290-46db-9f29-9b67e5325143",
   "metadata": {},
   "outputs": [],
   "source": [
    "# les tbl numpy sont similaires aux listes - mais avec une foncionnalité supplémentaire \n",
    "# réaliser des calculs par éléments unitaires ou aggregés"
   ]
  },
  {
   "cell_type": "code",
   "execution_count": null,
   "id": "0d3fe643-e2b7-421f-bee9-2469e234f6dc",
   "metadata": {},
   "outputs": [],
   "source": [
    "## Exercice 21 :\n",
    "# Vous avez collecter la taille et le poids de chacun de vos coéquipiers.\n",
    "# les tailles sont stockées dans la liste 'taille' et les poids dans la liste 'poids'\n",
    "# vous voulez calculer l'indice de masse corporelle 'imc' de chacun."
   ]
  },
  {
   "cell_type": "code",
   "execution_count": 419,
   "id": "40051c24-6ef0-4be2-9394-43e62788b0d7",
   "metadata": {},
   "outputs": [
    {
     "name": "stdout",
     "output_type": "stream",
     "text": [
      "échantillon équilibré\n"
     ]
    }
   ],
   "source": [
    "# corrigé :\n",
    "# déclaration des variables liste : taille et poids\n",
    "taille = [1.83, 1.85, 1.64, 1.98, 1.72, 1.89, 1.59, 1.68]\n",
    "poids = [69, 75, 79, 120, 55, 89, 66, 80]\n",
    "# vérifier la longueur de chaque liste \n",
    "if len(taille) == len(poids):\n",
    "    print('échantillon équilibré')\n",
    "else:\n",
    "    print('les effectifs ne sont pas égaux')"
   ]
  },
  {
   "cell_type": "code",
   "execution_count": 420,
   "id": "fab49a3d-2613-43f8-9364-190303c784a1",
   "metadata": {},
   "outputs": [],
   "source": [
    "# transformer le sliste en tbl numpy\n",
    "taille_array = np.array(taille)\n",
    "poids_array = np.array(poids)"
   ]
  },
  {
   "cell_type": "code",
   "execution_count": 422,
   "id": "2af8f106-e717-4868-acb0-5e831adb6fb7",
   "metadata": {},
   "outputs": [
    {
     "data": {
      "text/plain": [
       "array([20.60378035, 21.9138057 , 29.37239738, 30.60912152, 18.59113034,\n",
       "       24.91531592, 26.10656224, 28.3446712 ])"
      ]
     },
     "execution_count": 422,
     "metadata": {},
     "output_type": "execute_result"
    }
   ],
   "source": [
    "# calcul de l'imc\n",
    "imc = poids_array/taille_array**2\n",
    "imc"
   ]
  },
  {
   "cell_type": "code",
   "execution_count": 423,
   "id": "c9bb0a26-ad62-48c4-8132-ddb9788ee80f",
   "metadata": {},
   "outputs": [
    {
     "data": {
      "text/plain": [
       "array([29.37239738, 30.60912152, 26.10656224, 28.3446712 ])"
      ]
     },
     "execution_count": 423,
     "metadata": {},
     "output_type": "execute_result"
    }
   ],
   "source": [
    "# vérifions les valeurs > 25\n",
    "imc[imc >25]"
   ]
  },
  {
   "cell_type": "markdown",
   "id": "f7e1bae1-2733-4aab-80b2-d72867ba75b7",
   "metadata": {},
   "source": [
    "##### 2- création des tbl numpy à partir des matrices"
   ]
  },
  {
   "cell_type": "code",
   "execution_count": 425,
   "id": "4ad18bbc-1528-4951-9526-f4521ebe16e1",
   "metadata": {},
   "outputs": [
    {
     "name": "stdout",
     "output_type": "stream",
     "text": [
      "[[1 3]\n",
      " [2 4]]\n"
     ]
    },
    {
     "data": {
      "text/plain": [
       "numpy.ndarray"
      ]
     },
     "execution_count": 425,
     "metadata": {},
     "output_type": "execute_result"
    }
   ],
   "source": [
    "# déclarons une matrice 'm'\n",
    "m = np.array([[1, 3], [2, 4]])\n",
    "print(m)\n",
    "type(m)"
   ]
  },
  {
   "cell_type": "code",
   "execution_count": 524,
   "id": "d8b8b510-3168-4534-b5d8-a29ad6f13f86",
   "metadata": {},
   "outputs": [
    {
     "name": "stdout",
     "output_type": "stream",
     "text": [
      "3\n",
      "[3 4]\n"
     ]
    }
   ],
   "source": [
    "# accéder à un élément de mtrice\n",
    "print(m[0,1]) # élément à l'intersection de la 1ere ligne, 2e colonne\n",
    "print(m[:,1]) # élément à l'intersection de toutes les lignes, 2e colonne"
   ]
  },
  {
   "cell_type": "code",
   "execution_count": 430,
   "id": "c293cfc6-ec7f-41f4-b241-061a6ecf1c6c",
   "metadata": {},
   "outputs": [
    {
     "data": {
      "text/plain": [
       "array([[  1.83,   1.85,   1.64,   1.98,   1.72,   1.89,   1.59,   1.68],\n",
       "       [ 69.  ,  75.  ,  79.  , 120.  ,  55.  ,  89.  ,  66.  ,  80.  ]])"
      ]
     },
     "execution_count": 430,
     "metadata": {},
     "output_type": "execute_result"
    }
   ],
   "source": [
    "# revenons compléter l'exercice 21\n",
    "# maintenant, stockons les tailles et poids dans une matrice 'equipe'\n",
    "equipe = np.array([taille, poids])\n",
    "equipe"
   ]
  },
  {
   "cell_type": "code",
   "execution_count": 432,
   "id": "a8d7ce89-f2ca-4dc3-a73d-b5d2095d5b28",
   "metadata": {},
   "outputs": [
    {
     "data": {
      "text/plain": [
       "(2, 8)"
      ]
     },
     "execution_count": 432,
     "metadata": {},
     "output_type": "execute_result"
    }
   ],
   "source": [
    "# chercher la dimension du tableau\n",
    "equipe.shape"
   ]
  },
  {
   "cell_type": "code",
   "execution_count": null,
   "id": "899126a9-c338-488f-b421-d7e859036ac6",
   "metadata": {},
   "outputs": [],
   "source": [
    "## Exercie 22 : \n",
    "# déterminer la dimension du tabelau 'm'\n",
    "# donner la taille et le poids du 2e et 3e coéquipier\n",
    "# convertir les tailles de la liste en 'cm' et nommer la nouvelle liste taille_cm"
   ]
  },
  {
   "cell_type": "code",
   "execution_count": 434,
   "id": "79aed259-b964-422b-91f1-ef8d297bb207",
   "metadata": {},
   "outputs": [
    {
     "data": {
      "text/plain": [
       "2"
      ]
     },
     "execution_count": 434,
     "metadata": {},
     "output_type": "execute_result"
    }
   ],
   "source": [
    "# corrigé :\n",
    "# al dimension du tbl 'm'\n",
    "m.ndim"
   ]
  },
  {
   "cell_type": "code",
   "execution_count": 525,
   "id": "528dfc65-1be0-4aa5-ab59-282c2b6ad38d",
   "metadata": {},
   "outputs": [
    {
     "name": "stdout",
     "output_type": "stream",
     "text": [
      "2e coéquipier : [ 1.85 75.  ] \n",
      "3e coéquipier : [ 1.64 79.  ]\n"
     ]
    }
   ],
   "source": [
    "# la taille et poids du 2e et 3e \n",
    "print('2e coéquipier :', equipe[:, 1],'\\n3e coéquipier :', equipe[:,2])"
   ]
  },
  {
   "cell_type": "code",
   "execution_count": 437,
   "id": "73fae1fa-9f1f-4199-b74a-b3d9d775c65a",
   "metadata": {},
   "outputs": [
    {
     "data": {
      "text/plain": [
       "array([183., 185., 164., 198., 172., 189., 159., 168.])"
      ]
     },
     "execution_count": 437,
     "metadata": {},
     "output_type": "execute_result"
    }
   ],
   "source": [
    "# conversion de la plage taille en 'cm'\n",
    "taille_cm = taille_array*100\n",
    "taille_cm"
   ]
  },
  {
   "cell_type": "markdown",
   "id": "b880ab2a-f07d-4c13-b224-3314f478c3ca",
   "metadata": {},
   "source": [
    "##### 3 - création des tbl numpy à partir des fonctions spéciales"
   ]
  },
  {
   "cell_type": "code",
   "execution_count": 438,
   "id": "fb7e47d6-12b5-41e1-96f3-dba8b5524448",
   "metadata": {},
   "outputs": [
    {
     "data": {
      "text/plain": [
       "array([0, 1, 2, 3, 4])"
      ]
     },
     "execution_count": 438,
     "metadata": {},
     "output_type": "execute_result"
    }
   ],
   "source": [
    "# tbl numpy à partir de la fonction range()\n",
    "t_range = np.array(range(5))\n",
    "t_range"
   ]
  },
  {
   "cell_type": "code",
   "execution_count": 440,
   "id": "03da70ed-731c-4219-ba27-a349c1d07d70",
   "metadata": {},
   "outputs": [
    {
     "data": {
      "text/plain": [
       "array([0, 1, 2, 3, 4])"
      ]
     },
     "execution_count": 440,
     "metadata": {},
     "output_type": "execute_result"
    }
   ],
   "source": [
    "# méthode 2 : \n",
    "t_arange = np.arange(5) # choix plus adapté pour numpy\n",
    "t_arange"
   ]
  },
  {
   "cell_type": "code",
   "execution_count": 441,
   "id": "ba3de7a4-6df1-4fb0-836b-b09956942e4d",
   "metadata": {},
   "outputs": [
    {
     "data": {
      "text/plain": [
       "array([1. , 1.1, 1.2, 1.3, 1.4, 1.5, 1.6, 1.7, 1.8, 1.9, 2. ])"
      ]
     },
     "execution_count": 441,
     "metadata": {},
     "output_type": "execute_result"
    }
   ],
   "source": [
    "# utiliser np.arange pour caler le pas d'incrémentation \n",
    "t_arange2 = np.arange(1.0, 2.10, 0.1) # 1.0 : début, 2.10 : borne sup, 0.1 : pas d'incrémentation\n",
    "t_arange2"
   ]
  },
  {
   "cell_type": "markdown",
   "id": "7c9b500a-8d1c-45dc-9691-86d83fa29105",
   "metadata": {},
   "source": [
    "##### 4- création des tbl numpy à partir de la fonction linspace()"
   ]
  },
  {
   "cell_type": "code",
   "execution_count": null,
   "id": "13c0d673-9891-47a5-a7bf-ba0b12a2471e",
   "metadata": {},
   "outputs": [],
   "source": [
    "# linespace() est utilisé quand on veut créer un intervalle avec un nombre précis d'éléments"
   ]
  },
  {
   "cell_type": "code",
   "execution_count": 446,
   "id": "a1a08607-72b9-4b1c-940c-3406f890f53d",
   "metadata": {},
   "outputs": [
    {
     "data": {
      "text/plain": [
       "array([ 0.        ,  0.20408163,  0.40816327,  0.6122449 ,  0.81632653,\n",
       "        1.02040816,  1.2244898 ,  1.42857143,  1.63265306,  1.83673469,\n",
       "        2.04081633,  2.24489796,  2.44897959,  2.65306122,  2.85714286,\n",
       "        3.06122449,  3.26530612,  3.46938776,  3.67346939,  3.87755102,\n",
       "        4.08163265,  4.28571429,  4.48979592,  4.69387755,  4.89795918,\n",
       "        5.10204082,  5.30612245,  5.51020408,  5.71428571,  5.91836735,\n",
       "        6.12244898,  6.32653061,  6.53061224,  6.73469388,  6.93877551,\n",
       "        7.14285714,  7.34693878,  7.55102041,  7.75510204,  7.95918367,\n",
       "        8.16326531,  8.36734694,  8.57142857,  8.7755102 ,  8.97959184,\n",
       "        9.18367347,  9.3877551 ,  9.59183673,  9.79591837, 10.        ])"
      ]
     },
     "execution_count": 446,
     "metadata": {},
     "output_type": "execute_result"
    }
   ],
   "source": [
    "# usage de la fonction\n",
    "x = np.linspace(0, 10, 50) # 0 : début, 10 : borne sup, 50 : nb d'élément à créer\n",
    "x"
   ]
  },
  {
   "cell_type": "markdown",
   "id": "e6b5a410-9a15-4cbe-888a-a77b4b98ec67",
   "metadata": {},
   "source": [
    "##### 5 - statistiques avec numpy"
   ]
  },
  {
   "cell_type": "code",
   "execution_count": 447,
   "id": "78859079-fb58-44fd-bd75-87b578800d49",
   "metadata": {},
   "outputs": [
    {
     "data": {
      "text/plain": [
       "array([[  1.83,   1.85,   1.64,   1.98,   1.72,   1.89,   1.59,   1.68],\n",
       "       [ 69.  ,  75.  ,  79.  , 120.  ,  55.  ,  89.  ,  66.  ,  80.  ]])"
      ]
     },
     "execution_count": 447,
     "metadata": {},
     "output_type": "execute_result"
    }
   ],
   "source": [
    "# revenons compléter l'exercice 22\n",
    "# rappelons la np.array équipe\n",
    "equipe"
   ]
  },
  {
   "cell_type": "code",
   "execution_count": 451,
   "id": "9cbd6f8e-95bf-47e8-b371-b775e85424e0",
   "metadata": {},
   "outputs": [],
   "source": [
    "# taille moyenne\n",
    "taille_moy = np.mean(equipe[0])\n",
    "# taille médiane\n",
    "taille_med = np.median(equipe[0])\n",
    "# écart-type\n",
    "taille_std = np.std(equipe[0])\n",
    "\n",
    "# poids moyen\n",
    "poids_moy = np.mean(equipe[1])\n",
    "# poids médian\n",
    "poids_med = np.median(equipe[1])\n",
    "# écart-type\n",
    "poids_std = np.std(equipe[1])"
   ]
  },
  {
   "cell_type": "code",
   "execution_count": 453,
   "id": "fd1149bd-49c7-4e89-974b-c51c56481b97",
   "metadata": {},
   "outputs": [
    {
     "name": "stdout",
     "output_type": "stream",
     "text": [
      "taille moyenn : 1.7725\n",
      "taille médiane : 1.775\n",
      "poids moyen : 79.125\n",
      "poids médian : 77.0\n"
     ]
    }
   ],
   "source": [
    "print('taille moyenn :', taille_moy)\n",
    "print('taille médiane :', taille_med)\n",
    "#...\n",
    "print('poids moyen :', poids_moy)\n",
    "print('poids médian :', poids_med)\n",
    "#..."
   ]
  },
  {
   "cell_type": "code",
   "execution_count": null,
   "id": "93527336-c1ca-468e-9e1b-0d9a9ba2f8ab",
   "metadata": {},
   "outputs": [],
   "source": [
    "## Exercice 23 :\n",
    "# imaginer une tableau de collecte de données à l'échelle d'une ville\n",
    "# cette fois, la tableau compte 10000 colonnes et lignes (taille et poids)\n",
    "# qu'en serait-il à l'échelle d'un département ? d'une région ? d'un pays ou d'un continent ? \n",
    "# que faire avec des millions sinon des milliards de ligne ? "
   ]
  },
  {
   "cell_type": "code",
   "execution_count": 455,
   "id": "83c3404a-4fcf-4650-977c-134dab95310c",
   "metadata": {},
   "outputs": [],
   "source": [
    "# corrigé :\n",
    "# simulation de l'exercice \n",
    "\n",
    "# générer les données \n",
    "taille_city = np.round(np.random.normal(1.76, 0.11, 10000),2)\n",
    "poids_city = np.round(np.random.normal(79.12, 18.18, 10000), 2)\n",
    "# génération d'une distribution de taille normale de paramètre mu : moyenne et sigma : son écart-type"
   ]
  },
  {
   "cell_type": "code",
   "execution_count": 527,
   "id": "43607b8f-ae49-430b-ad7a-faa148d02c4e",
   "metadata": {},
   "outputs": [
    {
     "data": {
      "text/plain": [
       "10000"
      ]
     },
     "execution_count": 527,
     "metadata": {},
     "output_type": "execute_result"
    }
   ],
   "source": [
    "# longueur de ligne du tableau\n",
    "len(taille_city)"
   ]
  },
  {
   "cell_type": "code",
   "execution_count": 458,
   "id": "67429f73-651b-4bb8-846b-696e2fdb385b",
   "metadata": {},
   "outputs": [
    {
     "name": "stdout",
     "output_type": "stream",
     "text": [
      "[1.81 1.67 1.96 ... 1.79 1.66 1.65]\n",
      "[102.33  70.24  65.01 ...  87.31  92.38  44.3 ]\n"
     ]
    }
   ],
   "source": [
    "# consulter les variables \n",
    "print(taille_city)\n",
    "print(poids_city)"
   ]
  },
  {
   "cell_type": "code",
   "execution_count": 460,
   "id": "af5fe2ad-8c13-426c-833d-51075726df21",
   "metadata": {},
   "outputs": [
    {
     "data": {
      "text/plain": [
       "array([[  1.81, 102.33],\n",
       "       [  1.67,  70.24],\n",
       "       [  1.96,  65.01],\n",
       "       ...,\n",
       "       [  1.79,  87.31],\n",
       "       [  1.66,  92.38],\n",
       "       [  1.65,  44.3 ]])"
      ]
     },
     "execution_count": 460,
     "metadata": {},
     "output_type": "execute_result"
    }
   ],
   "source": [
    "# mettre les tailles en 1ere colonne suivi des poids en 2e colonne\n",
    "data_city = np.column_stack((taille_city, poids_city))\n",
    "# appercu de la data\n",
    "data_city"
   ]
  },
  {
   "cell_type": "code",
   "execution_count": 461,
   "id": "ad8f8297-079b-4ab5-870d-a3b981c71366",
   "metadata": {},
   "outputs": [],
   "source": [
    "# statistiques de la data_city\n",
    "taille_moyen = np.mean(data_city[:,0])\n",
    "taille_min = np.min(data_city[:,0])\n",
    "taille_max = np.max(data_city[:,0])\n",
    "\n",
    "poids_moyen = np.mean(data_city[:,1])\n",
    "poids_min = np.min(data_city[:,1])\n",
    "poids_max = np.max(data_city[:,1])"
   ]
  },
  {
   "cell_type": "code",
   "execution_count": 466,
   "id": "64aa3dbe-2f64-4885-bb7e-c2f96b34e445",
   "metadata": {},
   "outputs": [
    {
     "name": "stdout",
     "output_type": "stream",
     "text": [
      "taille moyen : 1.759824\n",
      "taille minimum : 1.26\n",
      "taille maximum : 2.15\n",
      "poids moyen : 79.126113\n",
      "poids minimum : 9.06\n",
      "poids maximum : 157.64\n"
     ]
    }
   ],
   "source": [
    "# visualiser les calculs\n",
    "# calcul de taille\n",
    "print('taille moyen :', taille_moyen)\n",
    "print('taille minimum :', taille_min)\n",
    "print('taille maximum :', taille_max)\n",
    "\n",
    "# calcul de poids\n",
    "print('poids moyen :', poids_moyen)\n",
    "print('poids minimum :', poids_min)\n",
    "print('poids maximum :', poids_max)"
   ]
  },
  {
   "cell_type": "markdown",
   "id": "1bc3e4d2-c908-41fe-8139-2e816544b1cc",
   "metadata": {},
   "source": [
    "##### 6 - les attributs de la librairie numpy"
   ]
  },
  {
   "cell_type": "code",
   "execution_count": 469,
   "id": "678e37d2-5b55-4b79-b79c-3ac396dc7c9f",
   "metadata": {},
   "outputs": [
    {
     "name": "stdout",
     "output_type": "stream",
     "text": [
      "[1 2 3 4]\n"
     ]
    },
    {
     "data": {
      "text/plain": [
       "(4,)"
      ]
     },
     "execution_count": 469,
     "metadata": {},
     "output_type": "execute_result"
    }
   ],
   "source": [
    "# l'attribut shape retourne la forme du tableau\n",
    "v = np.array([1, 2, 3, 4])\n",
    "print(v)\n",
    "v.shape"
   ]
  },
  {
   "cell_type": "code",
   "execution_count": 470,
   "id": "351be383-ce09-48f0-8390-6a98385cb87c",
   "metadata": {},
   "outputs": [
    {
     "data": {
      "text/plain": [
       "1"
      ]
     },
     "execution_count": 470,
     "metadata": {},
     "output_type": "execute_result"
    }
   ],
   "source": [
    "# l'attribut ndim pour le nombre de ligne\n",
    "v.ndim"
   ]
  },
  {
   "cell_type": "code",
   "execution_count": 471,
   "id": "c855be1c-8bc7-4fc7-b0f0-cc6ae8cc6261",
   "metadata": {},
   "outputs": [
    {
     "data": {
      "text/plain": [
       "2"
      ]
     },
     "execution_count": 471,
     "metadata": {},
     "output_type": "execute_result"
    }
   ],
   "source": [
    "# rappelons la matrice 'm'\n",
    "m = np.array([[1, 3], [2, 4]])\n",
    "m.ndim"
   ]
  },
  {
   "cell_type": "code",
   "execution_count": 492,
   "id": "3ec4b8c4-a41d-4f65-8bc2-409e596d5312",
   "metadata": {},
   "outputs": [
    {
     "name": "stdout",
     "output_type": "stream",
     "text": [
      "4\n",
      "4\n"
     ]
    }
   ],
   "source": [
    "# l'attribut size pour le nb élément\n",
    "print(v.size)\n",
    "print(m.size)"
   ]
  },
  {
   "cell_type": "code",
   "execution_count": 481,
   "id": "280cadee-b01c-4fb6-8f85-3c4e20f3e6ae",
   "metadata": {},
   "outputs": [
    {
     "data": {
      "text/plain": [
       "array([[11, 12, 13],\n",
       "       [21, 22, 23]])"
      ]
     },
     "execution_count": 481,
     "metadata": {},
     "output_type": "execute_result"
    }
   ],
   "source": [
    "# créeyons une matrice\n",
    "d2 = np.array([[11, 12, 13], [21, 22, 23]]) # modèle par défaut : 2 lignes, 3 colonnes\n",
    "d2"
   ]
  },
  {
   "cell_type": "code",
   "execution_count": 484,
   "id": "5f52dc51-8c39-460f-840f-4ab408b0460e",
   "metadata": {},
   "outputs": [
    {
     "data": {
      "text/plain": [
       "array([[11, 12],\n",
       "       [13, 21],\n",
       "       [22, 23]])"
      ]
     },
     "execution_count": 484,
     "metadata": {},
     "output_type": "execute_result"
    }
   ],
   "source": [
    "# l'attribut reshape pour remodeler la plage de données\n",
    "d2.shape\n",
    "# l'argument qu'on passe a reshape est un tuple\n",
    "v2 = d2.reshape((3,2)) # 3 : nb de ligne, 2 : nb de colonne\n",
    "v2"
   ]
  },
  {
   "cell_type": "code",
   "execution_count": 528,
   "id": "6ae9c092-a143-48ec-86cb-9e028069ffbf",
   "metadata": {},
   "outputs": [
    {
     "name": "stdout",
     "output_type": "stream",
     "text": [
      "[[11 12 13]\n",
      " [21 22 23]]\n",
      "[11 12 13 21 22 23]\n"
     ]
    }
   ],
   "source": [
    "# méthode ravel : transformer / applatir la plage de données sous forme de vecteur\n",
    "print(d2)\n",
    "print(d2.ravel())"
   ]
  },
  {
   "cell_type": "markdown",
   "id": "f327bfc3-e171-4e46-9a5b-e67a9c9da029",
   "metadata": {},
   "source": [
    "#### 2 - Librairie Pandas"
   ]
  },
  {
   "cell_type": "code",
   "execution_count": null,
   "id": "66675973-ff5f-4fae-a161-9f3633cebf4d",
   "metadata": {},
   "outputs": [],
   "source": [
    "# représentation en mémoire la plus utilisée pour l'importation et l'analyse de données\n",
    "# c'est la librairie idéale pour manipuler facilement les objets de tableau "
   ]
  },
  {
   "cell_type": "code",
   "execution_count": 494,
   "id": "4a94650f-31dd-46fb-af30-0fef316c3c56",
   "metadata": {},
   "outputs": [],
   "source": [
    "# appeler la librairie \n",
    "import pandas as pd"
   ]
  },
  {
   "cell_type": "code",
   "execution_count": 529,
   "id": "b1df3d4c-3b37-4f26-bb21-970805d22049",
   "metadata": {},
   "outputs": [
    {
     "data": {
      "text/plain": [
       "array([100,   5,  20,  80])"
      ]
     },
     "execution_count": 529,
     "metadata": {},
     "output_type": "execute_result"
    }
   ],
   "source": [
    "# créeyons un vecteur numpy \n",
    "pandas_array =  np.array([100, 5, 20, 80])\n",
    "pandas_array"
   ]
  },
  {
   "cell_type": "code",
   "execution_count": 530,
   "id": "34f0b0c1-3cc8-4977-a7ee-50ea9253b323",
   "metadata": {},
   "outputs": [
    {
     "data": {
      "text/plain": [
       "[[100, 5, 20, 80], [50, 2.5, 10, 40], [110, 6, 22, 80]]"
      ]
     },
     "execution_count": 530,
     "metadata": {},
     "output_type": "execute_result"
    }
   ],
   "source": [
    "# formons un tableau de famille\n",
    "famille_pandas = [[100, 5, 20, 80],\n",
    "                 [50, 2.5, 10, 40],\n",
    "                 [110, 6, 22, 80]]\n",
    "famille_pandas"
   ]
  },
  {
   "cell_type": "code",
   "execution_count": 543,
   "id": "c556c955-f86b-48e4-afff-1c0091bfbf0b",
   "metadata": {},
   "outputs": [
    {
     "name": "stdout",
     "output_type": "stream",
     "text": [
      "<class 'numpy.ndarray'>\n",
      "[[100, 5, 20, 80], [50, 2.5, 10, 40], [110, 6, 22, 80]]\n"
     ]
    }
   ],
   "source": [
    "# transformer ce résultat en un tableau numpy\n",
    "famille_array = np.array(famille_pandas)\n",
    "print(type(famille_array))\n",
    "print(famille_pandas)"
   ]
  },
  {
   "cell_type": "code",
   "execution_count": 499,
   "id": "10a1a13e-d30e-4918-86aa-10cbebe80e62",
   "metadata": {},
   "outputs": [
    {
     "data": {
      "text/plain": [
       "110.0"
      ]
     },
     "execution_count": 499,
     "metadata": {},
     "output_type": "execute_result"
    }
   ],
   "source": [
    "# supposons qu'on veuille obtenir la taille des pattes du pandas indexe de ligne 2\n",
    "famille_array[2,0]"
   ]
  },
  {
   "cell_type": "code",
   "execution_count": 532,
   "id": "12601c16-f4ff-479b-8002-f9eb71761ed3",
   "metadata": {},
   "outputs": [
    {
     "data": {
      "text/html": [
       "<div>\n",
       "<style scoped>\n",
       "    .dataframe tbody tr th:only-of-type {\n",
       "        vertical-align: middle;\n",
       "    }\n",
       "\n",
       "    .dataframe tbody tr th {\n",
       "        vertical-align: top;\n",
       "    }\n",
       "\n",
       "    .dataframe thead th {\n",
       "        text-align: right;\n",
       "    }\n",
       "</style>\n",
       "<table border=\"1\" class=\"dataframe\">\n",
       "  <thead>\n",
       "    <tr style=\"text-align: right;\">\n",
       "      <th></th>\n",
       "      <th>0</th>\n",
       "      <th>1</th>\n",
       "      <th>2</th>\n",
       "      <th>3</th>\n",
       "    </tr>\n",
       "  </thead>\n",
       "  <tbody>\n",
       "    <tr>\n",
       "      <th>0</th>\n",
       "      <td>100.0</td>\n",
       "      <td>5.0</td>\n",
       "      <td>20.0</td>\n",
       "      <td>80.0</td>\n",
       "    </tr>\n",
       "    <tr>\n",
       "      <th>1</th>\n",
       "      <td>50.0</td>\n",
       "      <td>2.5</td>\n",
       "      <td>10.0</td>\n",
       "      <td>40.0</td>\n",
       "    </tr>\n",
       "    <tr>\n",
       "      <th>2</th>\n",
       "      <td>110.0</td>\n",
       "      <td>6.0</td>\n",
       "      <td>22.0</td>\n",
       "      <td>80.0</td>\n",
       "    </tr>\n",
       "  </tbody>\n",
       "</table>\n",
       "</div>"
      ],
      "text/plain": [
       "       0    1     2     3\n",
       "0  100.0  5.0  20.0  80.0\n",
       "1   50.0  2.5  10.0  40.0\n",
       "2  110.0  6.0  22.0  80.0"
      ]
     },
     "execution_count": 532,
     "metadata": {},
     "output_type": "execute_result"
    }
   ],
   "source": [
    "# créeyons maintenant une dataframe de la librairie pandas\n",
    "df_pandas = pd.DataFrame(famille_array)\n",
    "df_pandas"
   ]
  },
  {
   "cell_type": "code",
   "execution_count": 533,
   "id": "17492c46-76a2-4504-8474-4d60072e67cb",
   "metadata": {},
   "outputs": [
    {
     "data": {
      "text/html": [
       "<div>\n",
       "<style scoped>\n",
       "    .dataframe tbody tr th:only-of-type {\n",
       "        vertical-align: middle;\n",
       "    }\n",
       "\n",
       "    .dataframe tbody tr th {\n",
       "        vertical-align: top;\n",
       "    }\n",
       "\n",
       "    .dataframe thead th {\n",
       "        text-align: right;\n",
       "    }\n",
       "</style>\n",
       "<table border=\"1\" class=\"dataframe\">\n",
       "  <thead>\n",
       "    <tr style=\"text-align: right;\">\n",
       "      <th></th>\n",
       "      <th>pattes</th>\n",
       "      <th>poiles</th>\n",
       "      <th>queue</th>\n",
       "      <th>ventre</th>\n",
       "    </tr>\n",
       "  </thead>\n",
       "  <tbody>\n",
       "    <tr>\n",
       "      <th>maman</th>\n",
       "      <td>100.0</td>\n",
       "      <td>5.0</td>\n",
       "      <td>20.0</td>\n",
       "      <td>80.0</td>\n",
       "    </tr>\n",
       "    <tr>\n",
       "      <th>bébé</th>\n",
       "      <td>50.0</td>\n",
       "      <td>2.5</td>\n",
       "      <td>10.0</td>\n",
       "      <td>40.0</td>\n",
       "    </tr>\n",
       "    <tr>\n",
       "      <th>papa</th>\n",
       "      <td>110.0</td>\n",
       "      <td>6.0</td>\n",
       "      <td>22.0</td>\n",
       "      <td>80.0</td>\n",
       "    </tr>\n",
       "  </tbody>\n",
       "</table>\n",
       "</div>"
      ],
      "text/plain": [
       "       pattes  poiles  queue  ventre\n",
       "maman   100.0     5.0   20.0    80.0\n",
       "bébé     50.0     2.5   10.0    40.0\n",
       "papa    110.0     6.0   22.0    80.0"
      ]
     },
     "execution_count": 533,
     "metadata": {},
     "output_type": "execute_result"
    }
   ],
   "source": [
    "# recréeyons la dataframe avec les noms de lignes et colonnes\n",
    "df_pandas = pd.DataFrame(famille_array, \n",
    "                        columns = ['pattes', 'poiles', 'queue', 'ventre'],\n",
    "                        index = ['maman', 'bébé', 'papa'])\n",
    "df_pandas"
   ]
  },
  {
   "cell_type": "code",
   "execution_count": 534,
   "id": "cd6cbe33-d596-40a8-8150-ac9f426f4f34",
   "metadata": {},
   "outputs": [
    {
     "data": {
      "text/plain": [
       "maman    100.0\n",
       "bébé      50.0\n",
       "papa     110.0\n",
       "Name: pattes, dtype: float64"
      ]
     },
     "execution_count": 534,
     "metadata": {},
     "output_type": "execute_result"
    }
   ],
   "source": [
    "# manipuler les données dans la colonne\n",
    "df_pandas['pattes']"
   ]
  },
  {
   "cell_type": "code",
   "execution_count": 545,
   "id": "df5c3439-a732-4906-8daa-8321311b1558",
   "metadata": {},
   "outputs": [
    {
     "data": {
      "text/plain": [
       "pattes    110.0\n",
       "poiles      6.0\n",
       "queue      22.0\n",
       "ventre     80.0\n",
       "Name: papa, dtype: float64"
      ]
     },
     "execution_count": 545,
     "metadata": {},
     "output_type": "execute_result"
    }
   ],
   "source": [
    "# atteindre un enregistrement spécifique : méthode 1\n",
    "df_pandas.iloc[2]"
   ]
  },
  {
   "cell_type": "code",
   "execution_count": 544,
   "id": "215dce97-0162-4e07-bfdd-7764cd445af8",
   "metadata": {},
   "outputs": [
    {
     "data": {
      "text/plain": [
       "pattes    110.0\n",
       "poiles      6.0\n",
       "queue      22.0\n",
       "ventre     80.0\n",
       "Name: papa, dtype: float64"
      ]
     },
     "execution_count": 544,
     "metadata": {},
     "output_type": "execute_result"
    }
   ],
   "source": [
    "# atteindre un enregistrement spécifique : méthode 2 (avec nom d'index)\n",
    "df_pandas.loc['papa']"
   ]
  },
  {
   "cell_type": "code",
   "execution_count": 537,
   "id": "361be801-be50-426b-a6bd-4d56a47255e8",
   "metadata": {},
   "outputs": [
    {
     "data": {
      "text/plain": [
       "maman     True\n",
       "bébé     False\n",
       "papa      True\n",
       "Name: ventre, dtype: bool"
      ]
     },
     "execution_count": 537,
     "metadata": {},
     "output_type": "execute_result"
    }
   ],
   "source": [
    "# réaliser un filtre sur la valeur du ventre > 80\n",
    "# déclarons une variable\n",
    "filtre = df_pandas['ventre']==80 # le type de valeur renvoyée est booléen\n",
    "filtre"
   ]
  },
  {
   "cell_type": "code",
   "execution_count": 538,
   "id": "97458a8a-a353-4a63-9c87-4c2d9c2fa84f",
   "metadata": {},
   "outputs": [
    {
     "data": {
      "text/html": [
       "<div>\n",
       "<style scoped>\n",
       "    .dataframe tbody tr th:only-of-type {\n",
       "        vertical-align: middle;\n",
       "    }\n",
       "\n",
       "    .dataframe tbody tr th {\n",
       "        vertical-align: top;\n",
       "    }\n",
       "\n",
       "    .dataframe thead th {\n",
       "        text-align: right;\n",
       "    }\n",
       "</style>\n",
       "<table border=\"1\" class=\"dataframe\">\n",
       "  <thead>\n",
       "    <tr style=\"text-align: right;\">\n",
       "      <th></th>\n",
       "      <th>pattes</th>\n",
       "      <th>poiles</th>\n",
       "      <th>queue</th>\n",
       "      <th>ventre</th>\n",
       "    </tr>\n",
       "  </thead>\n",
       "  <tbody>\n",
       "    <tr>\n",
       "      <th>maman</th>\n",
       "      <td>100.0</td>\n",
       "      <td>5.0</td>\n",
       "      <td>20.0</td>\n",
       "      <td>80.0</td>\n",
       "    </tr>\n",
       "    <tr>\n",
       "      <th>papa</th>\n",
       "      <td>110.0</td>\n",
       "      <td>6.0</td>\n",
       "      <td>22.0</td>\n",
       "      <td>80.0</td>\n",
       "    </tr>\n",
       "  </tbody>\n",
       "</table>\n",
       "</div>"
      ],
      "text/plain": [
       "       pattes  poiles  queue  ventre\n",
       "maman   100.0     5.0   20.0    80.0\n",
       "papa    110.0     6.0   22.0    80.0"
      ]
     },
     "execution_count": 538,
     "metadata": {},
     "output_type": "execute_result"
    }
   ],
   "source": [
    "# réaliser une sélection sur filtre\n",
    "df_pandas[filtre]"
   ]
  },
  {
   "cell_type": "code",
   "execution_count": 539,
   "id": "a647a02c-0993-4da6-9026-f693d6dfc934",
   "metadata": {},
   "outputs": [
    {
     "data": {
      "text/html": [
       "<div>\n",
       "<style scoped>\n",
       "    .dataframe tbody tr th:only-of-type {\n",
       "        vertical-align: middle;\n",
       "    }\n",
       "\n",
       "    .dataframe tbody tr th {\n",
       "        vertical-align: top;\n",
       "    }\n",
       "\n",
       "    .dataframe thead th {\n",
       "        text-align: right;\n",
       "    }\n",
       "</style>\n",
       "<table border=\"1\" class=\"dataframe\">\n",
       "  <thead>\n",
       "    <tr style=\"text-align: right;\">\n",
       "      <th></th>\n",
       "      <th>pattes</th>\n",
       "      <th>poiles</th>\n",
       "      <th>queue</th>\n",
       "      <th>ventre</th>\n",
       "    </tr>\n",
       "  </thead>\n",
       "  <tbody>\n",
       "    <tr>\n",
       "      <th>bébé</th>\n",
       "      <td>50.0</td>\n",
       "      <td>2.5</td>\n",
       "      <td>10.0</td>\n",
       "      <td>40.0</td>\n",
       "    </tr>\n",
       "  </tbody>\n",
       "</table>\n",
       "</div>"
      ],
      "text/plain": [
       "      pattes  poiles  queue  ventre\n",
       "bébé    50.0     2.5   10.0    40.0"
      ]
     },
     "execution_count": 539,
     "metadata": {},
     "output_type": "execute_result"
    }
   ],
   "source": [
    "# après avoir réalisé le filtre - pour faire une sélection inverse \n",
    "df_pandas[~filtre]"
   ]
  },
  {
   "cell_type": "code",
   "execution_count": 549,
   "id": "3c5f6a6d-de7d-4073-94f2-785c73a3c84d",
   "metadata": {},
   "outputs": [
    {
     "data": {
      "text/html": [
       "<div>\n",
       "<style scoped>\n",
       "    .dataframe tbody tr th:only-of-type {\n",
       "        vertical-align: middle;\n",
       "    }\n",
       "\n",
       "    .dataframe tbody tr th {\n",
       "        vertical-align: top;\n",
       "    }\n",
       "\n",
       "    .dataframe thead th {\n",
       "        text-align: right;\n",
       "    }\n",
       "</style>\n",
       "<table border=\"1\" class=\"dataframe\">\n",
       "  <thead>\n",
       "    <tr style=\"text-align: right;\">\n",
       "      <th></th>\n",
       "      <th>pattes</th>\n",
       "      <th>poiles</th>\n",
       "      <th>queue</th>\n",
       "      <th>ventre</th>\n",
       "    </tr>\n",
       "  </thead>\n",
       "  <tbody>\n",
       "    <tr>\n",
       "      <th>0</th>\n",
       "      <td>105</td>\n",
       "      <td>4</td>\n",
       "      <td>19</td>\n",
       "      <td>80</td>\n",
       "    </tr>\n",
       "    <tr>\n",
       "      <th>1</th>\n",
       "      <td>100</td>\n",
       "      <td>5</td>\n",
       "      <td>20</td>\n",
       "      <td>80</td>\n",
       "    </tr>\n",
       "  </tbody>\n",
       "</table>\n",
       "</div>"
      ],
      "text/plain": [
       "   pattes  poiles  queue  ventre\n",
       "0     105       4     19      80\n",
       "1     100       5     20      80"
      ]
     },
     "execution_count": 549,
     "metadata": {},
     "output_type": "execute_result"
    }
   ],
   "source": [
    "# ajouter de nouvelles infos dans la famille pandas\n",
    "qlq_pandas = pd.DataFrame([[105, 4,  19, 80], [100, 5, 20, 80]],\n",
    "                         columns = df_pandas.columns)\n",
    "qlq_pandas"
   ]
  },
  {
   "cell_type": "code",
   "execution_count": 547,
   "id": "3e63a303-7b58-47dc-b6eb-2a4eae217e25",
   "metadata": {},
   "outputs": [
    {
     "data": {
      "text/html": [
       "<div>\n",
       "<style scoped>\n",
       "    .dataframe tbody tr th:only-of-type {\n",
       "        vertical-align: middle;\n",
       "    }\n",
       "\n",
       "    .dataframe tbody tr th {\n",
       "        vertical-align: top;\n",
       "    }\n",
       "\n",
       "    .dataframe thead th {\n",
       "        text-align: right;\n",
       "    }\n",
       "</style>\n",
       "<table border=\"1\" class=\"dataframe\">\n",
       "  <thead>\n",
       "    <tr style=\"text-align: right;\">\n",
       "      <th></th>\n",
       "      <th>pattes</th>\n",
       "      <th>poiles</th>\n",
       "      <th>queue</th>\n",
       "      <th>ventre</th>\n",
       "    </tr>\n",
       "  </thead>\n",
       "  <tbody>\n",
       "    <tr>\n",
       "      <th>maman</th>\n",
       "      <td>100.0</td>\n",
       "      <td>5.0</td>\n",
       "      <td>20.0</td>\n",
       "      <td>80.0</td>\n",
       "    </tr>\n",
       "    <tr>\n",
       "      <th>bébé</th>\n",
       "      <td>50.0</td>\n",
       "      <td>2.5</td>\n",
       "      <td>10.0</td>\n",
       "      <td>40.0</td>\n",
       "    </tr>\n",
       "    <tr>\n",
       "      <th>papa</th>\n",
       "      <td>110.0</td>\n",
       "      <td>6.0</td>\n",
       "      <td>22.0</td>\n",
       "      <td>80.0</td>\n",
       "    </tr>\n",
       "    <tr>\n",
       "      <th>0</th>\n",
       "      <td>105.0</td>\n",
       "      <td>4.0</td>\n",
       "      <td>19.0</td>\n",
       "      <td>80.0</td>\n",
       "    </tr>\n",
       "    <tr>\n",
       "      <th>1</th>\n",
       "      <td>100.0</td>\n",
       "      <td>5.0</td>\n",
       "      <td>20.0</td>\n",
       "      <td>80.0</td>\n",
       "    </tr>\n",
       "  </tbody>\n",
       "</table>\n",
       "</div>"
      ],
      "text/plain": [
       "       pattes  poiles  queue  ventre\n",
       "maman   100.0     5.0   20.0    80.0\n",
       "bébé     50.0     2.5   10.0    40.0\n",
       "papa    110.0     6.0   22.0    80.0\n",
       "0       105.0     4.0   19.0    80.0\n",
       "1       100.0     5.0   20.0    80.0"
      ]
     },
     "execution_count": 547,
     "metadata": {},
     "output_type": "execute_result"
    }
   ],
   "source": [
    "# concatener les 2 familles\n",
    "tous_pandas = pd.concat([df_pandas, qlq_pandas])\n",
    "tous_pandas"
   ]
  },
  {
   "cell_type": "code",
   "execution_count": null,
   "id": "96a3143c-cd07-435d-b87b-938a2239ded1",
   "metadata": {},
   "outputs": [],
   "source": [
    "# on remarque l'indexe 'maman' == l'indexe 1. les valeurs sont les même :  risque de doublons"
   ]
  },
  {
   "cell_type": "code",
   "execution_count": 550,
   "id": "e9b20262-dfe8-4d36-b200-69adb75e9adc",
   "metadata": {},
   "outputs": [
    {
     "data": {
      "text/html": [
       "<div>\n",
       "<style scoped>\n",
       "    .dataframe tbody tr th:only-of-type {\n",
       "        vertical-align: middle;\n",
       "    }\n",
       "\n",
       "    .dataframe tbody tr th {\n",
       "        vertical-align: top;\n",
       "    }\n",
       "\n",
       "    .dataframe thead th {\n",
       "        text-align: right;\n",
       "    }\n",
       "</style>\n",
       "<table border=\"1\" class=\"dataframe\">\n",
       "  <thead>\n",
       "    <tr style=\"text-align: right;\">\n",
       "      <th></th>\n",
       "      <th>pattes</th>\n",
       "      <th>poiles</th>\n",
       "      <th>queue</th>\n",
       "      <th>ventre</th>\n",
       "    </tr>\n",
       "  </thead>\n",
       "  <tbody>\n",
       "    <tr>\n",
       "      <th>maman</th>\n",
       "      <td>100.0</td>\n",
       "      <td>5.0</td>\n",
       "      <td>20.0</td>\n",
       "      <td>80.0</td>\n",
       "    </tr>\n",
       "    <tr>\n",
       "      <th>bébé</th>\n",
       "      <td>50.0</td>\n",
       "      <td>2.5</td>\n",
       "      <td>10.0</td>\n",
       "      <td>40.0</td>\n",
       "    </tr>\n",
       "    <tr>\n",
       "      <th>papa</th>\n",
       "      <td>110.0</td>\n",
       "      <td>6.0</td>\n",
       "      <td>22.0</td>\n",
       "      <td>80.0</td>\n",
       "    </tr>\n",
       "    <tr>\n",
       "      <th>0</th>\n",
       "      <td>105.0</td>\n",
       "      <td>4.0</td>\n",
       "      <td>19.0</td>\n",
       "      <td>80.0</td>\n",
       "    </tr>\n",
       "  </tbody>\n",
       "</table>\n",
       "</div>"
      ],
      "text/plain": [
       "       pattes  poiles  queue  ventre\n",
       "maman   100.0     5.0   20.0    80.0\n",
       "bébé     50.0     2.5   10.0    40.0\n",
       "papa    110.0     6.0   22.0    80.0\n",
       "0       105.0     4.0   19.0    80.0"
      ]
     },
     "execution_count": 550,
     "metadata": {},
     "output_type": "execute_result"
    }
   ],
   "source": [
    "# nettoyage et suppression des doublons\n",
    "pandas_uniques = tous_pandas.drop_duplicates()\n",
    "pandas_uniques"
   ]
  },
  {
   "cell_type": "code",
   "execution_count": 551,
   "id": "4878a746-cc52-4fff-a863-c6777778aa6a",
   "metadata": {},
   "outputs": [
    {
     "data": {
      "text/html": [
       "<div>\n",
       "<style scoped>\n",
       "    .dataframe tbody tr th:only-of-type {\n",
       "        vertical-align: middle;\n",
       "    }\n",
       "\n",
       "    .dataframe tbody tr th {\n",
       "        vertical-align: top;\n",
       "    }\n",
       "\n",
       "    .dataframe thead th {\n",
       "        text-align: right;\n",
       "    }\n",
       "</style>\n",
       "<table border=\"1\" class=\"dataframe\">\n",
       "  <thead>\n",
       "    <tr style=\"text-align: right;\">\n",
       "      <th></th>\n",
       "      <th>pattes</th>\n",
       "      <th>poiles</th>\n",
       "      <th>queue</th>\n",
       "      <th>ventre</th>\n",
       "      <th>sexe</th>\n",
       "    </tr>\n",
       "  </thead>\n",
       "  <tbody>\n",
       "    <tr>\n",
       "      <th>maman</th>\n",
       "      <td>100.0</td>\n",
       "      <td>5.0</td>\n",
       "      <td>20.0</td>\n",
       "      <td>80.0</td>\n",
       "      <td>f</td>\n",
       "    </tr>\n",
       "    <tr>\n",
       "      <th>bébé</th>\n",
       "      <td>50.0</td>\n",
       "      <td>2.5</td>\n",
       "      <td>10.0</td>\n",
       "      <td>40.0</td>\n",
       "      <td>f</td>\n",
       "    </tr>\n",
       "    <tr>\n",
       "      <th>papa</th>\n",
       "      <td>110.0</td>\n",
       "      <td>6.0</td>\n",
       "      <td>22.0</td>\n",
       "      <td>80.0</td>\n",
       "      <td>m</td>\n",
       "    </tr>\n",
       "  </tbody>\n",
       "</table>\n",
       "</div>"
      ],
      "text/plain": [
       "       pattes  poiles  queue  ventre sexe\n",
       "maman   100.0     5.0   20.0    80.0    f\n",
       "bébé     50.0     2.5   10.0    40.0    f\n",
       "papa    110.0     6.0   22.0    80.0    m"
      ]
     },
     "execution_count": 551,
     "metadata": {},
     "output_type": "execute_result"
    }
   ],
   "source": [
    "# ajout d'une nouvelle variable 'sexe'\n",
    "df_pandas['sexe'] = ['f', 'f', 'm']\n",
    "df_pandas"
   ]
  },
  {
   "cell_type": "code",
   "execution_count": 554,
   "id": "c7163d08-75f5-4a4c-96cc-9515f61b0e8a",
   "metadata": {},
   "outputs": [
    {
     "name": "stdout",
     "output_type": "stream",
     "text": [
      "Index(['pattes', 'poiles', 'queue', 'ventre', 'sexe'], dtype='object')\n"
     ]
    },
    {
     "data": {
      "text/plain": [
       "(3, 5)"
      ]
     },
     "execution_count": 554,
     "metadata": {},
     "output_type": "execute_result"
    }
   ],
   "source": [
    "# obtenir les noms de colonnes\n",
    "print(df_pandas.columns)\n",
    "# obtenir le nombre de ligne et colonnes\n",
    "df_pandas.shape"
   ]
  },
  {
   "cell_type": "code",
   "execution_count": 555,
   "id": "2a4f8fe2-7c47-4821-bdef-a9b0beae4a8e",
   "metadata": {},
   "outputs": [
    {
     "name": "stdout",
     "output_type": "stream",
     "text": [
      "<class 'pandas.core.frame.DataFrame'>\n",
      "Index: 3 entries, maman to papa\n",
      "Data columns (total 5 columns):\n",
      " #   Column  Non-Null Count  Dtype  \n",
      "---  ------  --------------  -----  \n",
      " 0   pattes  3 non-null      float64\n",
      " 1   poiles  3 non-null      float64\n",
      " 2   queue   3 non-null      float64\n",
      " 3   ventre  3 non-null      float64\n",
      " 4   sexe    3 non-null      object \n",
      "dtypes: float64(4), object(1)\n",
      "memory usage: 252.0+ bytes\n"
     ]
    }
   ],
   "source": [
    "# méthode .info() : consulter les info de la df\n",
    "df_pandas.info()"
   ]
  },
  {
   "cell_type": "code",
   "execution_count": 556,
   "id": "f173b52f-5c66-473f-b83e-b6b1cd4bb62b",
   "metadata": {},
   "outputs": [
    {
     "data": {
      "text/plain": [
       "array(['f', 'm'], dtype=object)"
      ]
     },
     "execution_count": 556,
     "metadata": {},
     "output_type": "execute_result"
    }
   ],
   "source": [
    "# méthode .unique() : pour obtenir les valeurs distincts d'une colonne\n",
    "df_pandas['sexe'].unique()"
   ]
  },
  {
   "cell_type": "code",
   "execution_count": null,
   "id": "7c841ad5-b84a-450f-93ec-659e8b2700be",
   "metadata": {},
   "outputs": [],
   "source": [
    "# cette partie sur les généralité dans python s'achève - je vais entamer la suite\n",
    "# l'importation et traitement et visualisation de données pour la data science"
   ]
  },
  {
   "cell_type": "markdown",
   "id": "1b3b760c-1df5-4dce-8c9f-57661c133a73",
   "metadata": {},
   "source": [
    "# Chapitre 2 : Importation des données"
   ]
  },
  {
   "cell_type": "markdown",
   "id": "f47dc44f-852c-49a6-83c5-27a53934a7cf",
   "metadata": {},
   "source": [
    "##### Séance de travail typique en Data Science"
   ]
  },
  {
   "cell_type": "code",
   "execution_count": null,
   "id": "9bcaa11d-d0bd-4b0c-83f9-5fcab50b420a",
   "metadata": {},
   "outputs": [],
   "source": [
    "# dans ce chapitre, nous allons utiliser un ensemble de données disponible dans la librairie seaborn\n",
    "# seaborn est une librairie riche en fonctions comme les précédents que nous avons vu\n",
    "# cette librairie est essentiellement utiliser pour la visualisation, n'empeche que nous utilisons ses jeux de données pour s'entrainer"
   ]
  },
  {
   "cell_type": "code",
   "execution_count": null,
   "id": "710ea773-fcc0-4ab6-ba5f-1f71e13d7d2a",
   "metadata": {},
   "outputs": [],
   "source": [
    "# entres autres les données, le cas écheant, nous allons importer les données de naufrage Titanic contenu de cette librairie"
   ]
  },
  {
   "cell_type": "code",
   "execution_count": 558,
   "id": "a6945e2d-5d60-4b49-a6a1-db8f22cf7edd",
   "metadata": {},
   "outputs": [],
   "source": [
    "# import de la librairie seaborn\n",
    "import pandas as pd\n",
    "import seaborn as sns"
   ]
  },
  {
   "cell_type": "code",
   "execution_count": 566,
   "id": "6aeb7233-26cb-4f31-a777-8ef462bc4092",
   "metadata": {},
   "outputs": [
    {
     "data": {
      "text/plain": [
       "(891, 15)"
      ]
     },
     "execution_count": 566,
     "metadata": {},
     "output_type": "execute_result"
    }
   ],
   "source": [
    "# chargeons la data\n",
    "titanic = sns.load_dataset('titanic')\n",
    "titanic.shape # vérifier les nb lignes et colonnes"
   ]
  },
  {
   "cell_type": "code",
   "execution_count": 568,
   "id": "274c9d39-c0c8-40d4-a04c-bfcdf23b7300",
   "metadata": {},
   "outputs": [
    {
     "data": {
      "text/html": [
       "<div>\n",
       "<style scoped>\n",
       "    .dataframe tbody tr th:only-of-type {\n",
       "        vertical-align: middle;\n",
       "    }\n",
       "\n",
       "    .dataframe tbody tr th {\n",
       "        vertical-align: top;\n",
       "    }\n",
       "\n",
       "    .dataframe thead th {\n",
       "        text-align: right;\n",
       "    }\n",
       "</style>\n",
       "<table border=\"1\" class=\"dataframe\">\n",
       "  <thead>\n",
       "    <tr style=\"text-align: right;\">\n",
       "      <th></th>\n",
       "      <th>survived</th>\n",
       "      <th>pclass</th>\n",
       "      <th>sex</th>\n",
       "      <th>age</th>\n",
       "      <th>sibsp</th>\n",
       "      <th>parch</th>\n",
       "      <th>fare</th>\n",
       "      <th>embarked</th>\n",
       "      <th>class</th>\n",
       "      <th>who</th>\n",
       "      <th>adult_male</th>\n",
       "      <th>deck</th>\n",
       "      <th>embark_town</th>\n",
       "      <th>alive</th>\n",
       "      <th>alone</th>\n",
       "    </tr>\n",
       "  </thead>\n",
       "  <tbody>\n",
       "    <tr>\n",
       "      <th>0</th>\n",
       "      <td>0</td>\n",
       "      <td>3</td>\n",
       "      <td>male</td>\n",
       "      <td>22.0</td>\n",
       "      <td>1</td>\n",
       "      <td>0</td>\n",
       "      <td>7.2500</td>\n",
       "      <td>S</td>\n",
       "      <td>Third</td>\n",
       "      <td>man</td>\n",
       "      <td>True</td>\n",
       "      <td>NaN</td>\n",
       "      <td>Southampton</td>\n",
       "      <td>no</td>\n",
       "      <td>False</td>\n",
       "    </tr>\n",
       "    <tr>\n",
       "      <th>1</th>\n",
       "      <td>1</td>\n",
       "      <td>1</td>\n",
       "      <td>female</td>\n",
       "      <td>38.0</td>\n",
       "      <td>1</td>\n",
       "      <td>0</td>\n",
       "      <td>71.2833</td>\n",
       "      <td>C</td>\n",
       "      <td>First</td>\n",
       "      <td>woman</td>\n",
       "      <td>False</td>\n",
       "      <td>C</td>\n",
       "      <td>Cherbourg</td>\n",
       "      <td>yes</td>\n",
       "      <td>False</td>\n",
       "    </tr>\n",
       "    <tr>\n",
       "      <th>2</th>\n",
       "      <td>1</td>\n",
       "      <td>3</td>\n",
       "      <td>female</td>\n",
       "      <td>26.0</td>\n",
       "      <td>0</td>\n",
       "      <td>0</td>\n",
       "      <td>7.9250</td>\n",
       "      <td>S</td>\n",
       "      <td>Third</td>\n",
       "      <td>woman</td>\n",
       "      <td>False</td>\n",
       "      <td>NaN</td>\n",
       "      <td>Southampton</td>\n",
       "      <td>yes</td>\n",
       "      <td>True</td>\n",
       "    </tr>\n",
       "    <tr>\n",
       "      <th>3</th>\n",
       "      <td>1</td>\n",
       "      <td>1</td>\n",
       "      <td>female</td>\n",
       "      <td>35.0</td>\n",
       "      <td>1</td>\n",
       "      <td>0</td>\n",
       "      <td>53.1000</td>\n",
       "      <td>S</td>\n",
       "      <td>First</td>\n",
       "      <td>woman</td>\n",
       "      <td>False</td>\n",
       "      <td>C</td>\n",
       "      <td>Southampton</td>\n",
       "      <td>yes</td>\n",
       "      <td>False</td>\n",
       "    </tr>\n",
       "    <tr>\n",
       "      <th>4</th>\n",
       "      <td>0</td>\n",
       "      <td>3</td>\n",
       "      <td>male</td>\n",
       "      <td>35.0</td>\n",
       "      <td>0</td>\n",
       "      <td>0</td>\n",
       "      <td>8.0500</td>\n",
       "      <td>S</td>\n",
       "      <td>Third</td>\n",
       "      <td>man</td>\n",
       "      <td>True</td>\n",
       "      <td>NaN</td>\n",
       "      <td>Southampton</td>\n",
       "      <td>no</td>\n",
       "      <td>True</td>\n",
       "    </tr>\n",
       "  </tbody>\n",
       "</table>\n",
       "</div>"
      ],
      "text/plain": [
       "   survived  pclass     sex   age  sibsp  parch     fare embarked  class  \\\n",
       "0         0       3    male  22.0      1      0   7.2500        S  Third   \n",
       "1         1       1  female  38.0      1      0  71.2833        C  First   \n",
       "2         1       3  female  26.0      0      0   7.9250        S  Third   \n",
       "3         1       1  female  35.0      1      0  53.1000        S  First   \n",
       "4         0       3    male  35.0      0      0   8.0500        S  Third   \n",
       "\n",
       "     who  adult_male deck  embark_town alive  alone  \n",
       "0    man        True  NaN  Southampton    no  False  \n",
       "1  woman       False    C    Cherbourg   yes  False  \n",
       "2  woman       False  NaN  Southampton   yes   True  \n",
       "3  woman       False    C  Southampton   yes  False  \n",
       "4    man        True  NaN  Southampton    no   True  "
      ]
     },
     "execution_count": 568,
     "metadata": {},
     "output_type": "execute_result"
    }
   ],
   "source": [
    "# méthode .head() : afficher les 5 premiers enreg\n",
    "titanic.head()"
   ]
  },
  {
   "cell_type": "code",
   "execution_count": 569,
   "id": "dddd922d-ffa7-4dff-a119-90096adeca91",
   "metadata": {},
   "outputs": [
    {
     "data": {
      "text/html": [
       "<div>\n",
       "<style scoped>\n",
       "    .dataframe tbody tr th:only-of-type {\n",
       "        vertical-align: middle;\n",
       "    }\n",
       "\n",
       "    .dataframe tbody tr th {\n",
       "        vertical-align: top;\n",
       "    }\n",
       "\n",
       "    .dataframe thead th {\n",
       "        text-align: right;\n",
       "    }\n",
       "</style>\n",
       "<table border=\"1\" class=\"dataframe\">\n",
       "  <thead>\n",
       "    <tr style=\"text-align: right;\">\n",
       "      <th></th>\n",
       "      <th>survived</th>\n",
       "      <th>pclass</th>\n",
       "      <th>sex</th>\n",
       "      <th>age</th>\n",
       "      <th>sibsp</th>\n",
       "      <th>parch</th>\n",
       "      <th>fare</th>\n",
       "      <th>embarked</th>\n",
       "      <th>class</th>\n",
       "      <th>who</th>\n",
       "      <th>adult_male</th>\n",
       "      <th>deck</th>\n",
       "      <th>embark_town</th>\n",
       "      <th>alive</th>\n",
       "      <th>alone</th>\n",
       "    </tr>\n",
       "  </thead>\n",
       "  <tbody>\n",
       "    <tr>\n",
       "      <th>886</th>\n",
       "      <td>0</td>\n",
       "      <td>2</td>\n",
       "      <td>male</td>\n",
       "      <td>27.0</td>\n",
       "      <td>0</td>\n",
       "      <td>0</td>\n",
       "      <td>13.00</td>\n",
       "      <td>S</td>\n",
       "      <td>Second</td>\n",
       "      <td>man</td>\n",
       "      <td>True</td>\n",
       "      <td>NaN</td>\n",
       "      <td>Southampton</td>\n",
       "      <td>no</td>\n",
       "      <td>True</td>\n",
       "    </tr>\n",
       "    <tr>\n",
       "      <th>887</th>\n",
       "      <td>1</td>\n",
       "      <td>1</td>\n",
       "      <td>female</td>\n",
       "      <td>19.0</td>\n",
       "      <td>0</td>\n",
       "      <td>0</td>\n",
       "      <td>30.00</td>\n",
       "      <td>S</td>\n",
       "      <td>First</td>\n",
       "      <td>woman</td>\n",
       "      <td>False</td>\n",
       "      <td>B</td>\n",
       "      <td>Southampton</td>\n",
       "      <td>yes</td>\n",
       "      <td>True</td>\n",
       "    </tr>\n",
       "    <tr>\n",
       "      <th>888</th>\n",
       "      <td>0</td>\n",
       "      <td>3</td>\n",
       "      <td>female</td>\n",
       "      <td>NaN</td>\n",
       "      <td>1</td>\n",
       "      <td>2</td>\n",
       "      <td>23.45</td>\n",
       "      <td>S</td>\n",
       "      <td>Third</td>\n",
       "      <td>woman</td>\n",
       "      <td>False</td>\n",
       "      <td>NaN</td>\n",
       "      <td>Southampton</td>\n",
       "      <td>no</td>\n",
       "      <td>False</td>\n",
       "    </tr>\n",
       "    <tr>\n",
       "      <th>889</th>\n",
       "      <td>1</td>\n",
       "      <td>1</td>\n",
       "      <td>male</td>\n",
       "      <td>26.0</td>\n",
       "      <td>0</td>\n",
       "      <td>0</td>\n",
       "      <td>30.00</td>\n",
       "      <td>C</td>\n",
       "      <td>First</td>\n",
       "      <td>man</td>\n",
       "      <td>True</td>\n",
       "      <td>C</td>\n",
       "      <td>Cherbourg</td>\n",
       "      <td>yes</td>\n",
       "      <td>True</td>\n",
       "    </tr>\n",
       "    <tr>\n",
       "      <th>890</th>\n",
       "      <td>0</td>\n",
       "      <td>3</td>\n",
       "      <td>male</td>\n",
       "      <td>32.0</td>\n",
       "      <td>0</td>\n",
       "      <td>0</td>\n",
       "      <td>7.75</td>\n",
       "      <td>Q</td>\n",
       "      <td>Third</td>\n",
       "      <td>man</td>\n",
       "      <td>True</td>\n",
       "      <td>NaN</td>\n",
       "      <td>Queenstown</td>\n",
       "      <td>no</td>\n",
       "      <td>True</td>\n",
       "    </tr>\n",
       "  </tbody>\n",
       "</table>\n",
       "</div>"
      ],
      "text/plain": [
       "     survived  pclass     sex   age  sibsp  parch   fare embarked   class  \\\n",
       "886         0       2    male  27.0      0      0  13.00        S  Second   \n",
       "887         1       1  female  19.0      0      0  30.00        S   First   \n",
       "888         0       3  female   NaN      1      2  23.45        S   Third   \n",
       "889         1       1    male  26.0      0      0  30.00        C   First   \n",
       "890         0       3    male  32.0      0      0   7.75        Q   Third   \n",
       "\n",
       "       who  adult_male deck  embark_town alive  alone  \n",
       "886    man        True  NaN  Southampton    no   True  \n",
       "887  woman       False    B  Southampton   yes   True  \n",
       "888  woman       False  NaN  Southampton    no  False  \n",
       "889    man        True    C    Cherbourg   yes   True  \n",
       "890    man        True  NaN   Queenstown    no   True  "
      ]
     },
     "execution_count": 569,
     "metadata": {},
     "output_type": "execute_result"
    }
   ],
   "source": [
    "# méthode .tail() : afficher les 5 derniers enreg\n",
    "titanic.tail()"
   ]
  },
  {
   "cell_type": "code",
   "execution_count": 570,
   "id": "e914dcbe-951b-43d6-bbfd-1ab140db1972",
   "metadata": {},
   "outputs": [
    {
     "data": {
      "text/html": [
       "<div>\n",
       "<style scoped>\n",
       "    .dataframe tbody tr th:only-of-type {\n",
       "        vertical-align: middle;\n",
       "    }\n",
       "\n",
       "    .dataframe tbody tr th {\n",
       "        vertical-align: top;\n",
       "    }\n",
       "\n",
       "    .dataframe thead th {\n",
       "        text-align: right;\n",
       "    }\n",
       "</style>\n",
       "<table border=\"1\" class=\"dataframe\">\n",
       "  <thead>\n",
       "    <tr style=\"text-align: right;\">\n",
       "      <th></th>\n",
       "      <th>survived</th>\n",
       "      <th>pclass</th>\n",
       "      <th>sex</th>\n",
       "      <th>age</th>\n",
       "      <th>sibsp</th>\n",
       "      <th>parch</th>\n",
       "      <th>fare</th>\n",
       "      <th>embarked</th>\n",
       "      <th>class</th>\n",
       "      <th>who</th>\n",
       "      <th>adult_male</th>\n",
       "      <th>deck</th>\n",
       "      <th>embark_town</th>\n",
       "      <th>alive</th>\n",
       "      <th>alone</th>\n",
       "    </tr>\n",
       "  </thead>\n",
       "  <tbody>\n",
       "    <tr>\n",
       "      <th>268</th>\n",
       "      <td>1</td>\n",
       "      <td>1</td>\n",
       "      <td>female</td>\n",
       "      <td>58.0</td>\n",
       "      <td>0</td>\n",
       "      <td>1</td>\n",
       "      <td>153.4625</td>\n",
       "      <td>S</td>\n",
       "      <td>First</td>\n",
       "      <td>woman</td>\n",
       "      <td>False</td>\n",
       "      <td>C</td>\n",
       "      <td>Southampton</td>\n",
       "      <td>yes</td>\n",
       "      <td>False</td>\n",
       "    </tr>\n",
       "    <tr>\n",
       "      <th>348</th>\n",
       "      <td>1</td>\n",
       "      <td>3</td>\n",
       "      <td>male</td>\n",
       "      <td>3.0</td>\n",
       "      <td>1</td>\n",
       "      <td>1</td>\n",
       "      <td>15.9000</td>\n",
       "      <td>S</td>\n",
       "      <td>Third</td>\n",
       "      <td>child</td>\n",
       "      <td>False</td>\n",
       "      <td>NaN</td>\n",
       "      <td>Southampton</td>\n",
       "      <td>yes</td>\n",
       "      <td>False</td>\n",
       "    </tr>\n",
       "    <tr>\n",
       "      <th>337</th>\n",
       "      <td>1</td>\n",
       "      <td>1</td>\n",
       "      <td>female</td>\n",
       "      <td>41.0</td>\n",
       "      <td>0</td>\n",
       "      <td>0</td>\n",
       "      <td>134.5000</td>\n",
       "      <td>C</td>\n",
       "      <td>First</td>\n",
       "      <td>woman</td>\n",
       "      <td>False</td>\n",
       "      <td>E</td>\n",
       "      <td>Cherbourg</td>\n",
       "      <td>yes</td>\n",
       "      <td>True</td>\n",
       "    </tr>\n",
       "    <tr>\n",
       "      <th>796</th>\n",
       "      <td>1</td>\n",
       "      <td>1</td>\n",
       "      <td>female</td>\n",
       "      <td>49.0</td>\n",
       "      <td>0</td>\n",
       "      <td>0</td>\n",
       "      <td>25.9292</td>\n",
       "      <td>S</td>\n",
       "      <td>First</td>\n",
       "      <td>woman</td>\n",
       "      <td>False</td>\n",
       "      <td>D</td>\n",
       "      <td>Southampton</td>\n",
       "      <td>yes</td>\n",
       "      <td>True</td>\n",
       "    </tr>\n",
       "    <tr>\n",
       "      <th>635</th>\n",
       "      <td>1</td>\n",
       "      <td>2</td>\n",
       "      <td>female</td>\n",
       "      <td>28.0</td>\n",
       "      <td>0</td>\n",
       "      <td>0</td>\n",
       "      <td>13.0000</td>\n",
       "      <td>S</td>\n",
       "      <td>Second</td>\n",
       "      <td>woman</td>\n",
       "      <td>False</td>\n",
       "      <td>NaN</td>\n",
       "      <td>Southampton</td>\n",
       "      <td>yes</td>\n",
       "      <td>True</td>\n",
       "    </tr>\n",
       "  </tbody>\n",
       "</table>\n",
       "</div>"
      ],
      "text/plain": [
       "     survived  pclass     sex   age  sibsp  parch      fare embarked   class  \\\n",
       "268         1       1  female  58.0      0      1  153.4625        S   First   \n",
       "348         1       3    male   3.0      1      1   15.9000        S   Third   \n",
       "337         1       1  female  41.0      0      0  134.5000        C   First   \n",
       "796         1       1  female  49.0      0      0   25.9292        S   First   \n",
       "635         1       2  female  28.0      0      0   13.0000        S  Second   \n",
       "\n",
       "       who  adult_male deck  embark_town alive  alone  \n",
       "268  woman       False    C  Southampton   yes  False  \n",
       "348  child       False  NaN  Southampton   yes  False  \n",
       "337  woman       False    E    Cherbourg   yes   True  \n",
       "796  woman       False    D  Southampton   yes   True  \n",
       "635  woman       False  NaN  Southampton   yes   True  "
      ]
     },
     "execution_count": 570,
     "metadata": {},
     "output_type": "execute_result"
    }
   ],
   "source": [
    "# créer un échantillon aléatoire \n",
    "titanic.sample(5)"
   ]
  },
  {
   "cell_type": "code",
   "execution_count": 573,
   "id": "0c4a837b-9f83-4596-b562-cb35fdea5f9c",
   "metadata": {},
   "outputs": [
    {
     "data": {
      "text/plain": [
       "array(['Southampton', 'Cherbourg', 'Queenstown', nan], dtype=object)"
      ]
     },
     "execution_count": 573,
     "metadata": {},
     "output_type": "execute_result"
    }
   ],
   "source": [
    "# modalités distincst des liex d'embarquation\n",
    "titanic['embark_town'].unique()"
   ]
  },
  {
   "cell_type": "code",
   "execution_count": 577,
   "id": "ff8cacd7-5884-4592-b2e4-1b896ecd6707",
   "metadata": {},
   "outputs": [
    {
     "data": {
      "text/html": [
       "<div>\n",
       "<style scoped>\n",
       "    .dataframe tbody tr th:only-of-type {\n",
       "        vertical-align: middle;\n",
       "    }\n",
       "\n",
       "    .dataframe tbody tr th {\n",
       "        vertical-align: top;\n",
       "    }\n",
       "\n",
       "    .dataframe thead th {\n",
       "        text-align: right;\n",
       "    }\n",
       "</style>\n",
       "<table border=\"1\" class=\"dataframe\">\n",
       "  <thead>\n",
       "    <tr style=\"text-align: right;\">\n",
       "      <th></th>\n",
       "      <th>survived</th>\n",
       "      <th>pclass</th>\n",
       "      <th>age</th>\n",
       "      <th>sibsp</th>\n",
       "      <th>parch</th>\n",
       "      <th>fare</th>\n",
       "    </tr>\n",
       "  </thead>\n",
       "  <tbody>\n",
       "    <tr>\n",
       "      <th>count</th>\n",
       "      <td>891.000000</td>\n",
       "      <td>891.000000</td>\n",
       "      <td>714.000000</td>\n",
       "      <td>891.000000</td>\n",
       "      <td>891.000000</td>\n",
       "      <td>891.000000</td>\n",
       "    </tr>\n",
       "    <tr>\n",
       "      <th>mean</th>\n",
       "      <td>0.383838</td>\n",
       "      <td>2.308642</td>\n",
       "      <td>29.699118</td>\n",
       "      <td>0.523008</td>\n",
       "      <td>0.381594</td>\n",
       "      <td>32.204208</td>\n",
       "    </tr>\n",
       "    <tr>\n",
       "      <th>std</th>\n",
       "      <td>0.486592</td>\n",
       "      <td>0.836071</td>\n",
       "      <td>14.526497</td>\n",
       "      <td>1.102743</td>\n",
       "      <td>0.806057</td>\n",
       "      <td>49.693429</td>\n",
       "    </tr>\n",
       "    <tr>\n",
       "      <th>min</th>\n",
       "      <td>0.000000</td>\n",
       "      <td>1.000000</td>\n",
       "      <td>0.420000</td>\n",
       "      <td>0.000000</td>\n",
       "      <td>0.000000</td>\n",
       "      <td>0.000000</td>\n",
       "    </tr>\n",
       "    <tr>\n",
       "      <th>25%</th>\n",
       "      <td>0.000000</td>\n",
       "      <td>2.000000</td>\n",
       "      <td>20.125000</td>\n",
       "      <td>0.000000</td>\n",
       "      <td>0.000000</td>\n",
       "      <td>7.910400</td>\n",
       "    </tr>\n",
       "    <tr>\n",
       "      <th>50%</th>\n",
       "      <td>0.000000</td>\n",
       "      <td>3.000000</td>\n",
       "      <td>28.000000</td>\n",
       "      <td>0.000000</td>\n",
       "      <td>0.000000</td>\n",
       "      <td>14.454200</td>\n",
       "    </tr>\n",
       "    <tr>\n",
       "      <th>75%</th>\n",
       "      <td>1.000000</td>\n",
       "      <td>3.000000</td>\n",
       "      <td>38.000000</td>\n",
       "      <td>1.000000</td>\n",
       "      <td>0.000000</td>\n",
       "      <td>31.000000</td>\n",
       "    </tr>\n",
       "    <tr>\n",
       "      <th>max</th>\n",
       "      <td>1.000000</td>\n",
       "      <td>3.000000</td>\n",
       "      <td>80.000000</td>\n",
       "      <td>8.000000</td>\n",
       "      <td>6.000000</td>\n",
       "      <td>512.329200</td>\n",
       "    </tr>\n",
       "  </tbody>\n",
       "</table>\n",
       "</div>"
      ],
      "text/plain": [
       "         survived      pclass         age       sibsp       parch        fare\n",
       "count  891.000000  891.000000  714.000000  891.000000  891.000000  891.000000\n",
       "mean     0.383838    2.308642   29.699118    0.523008    0.381594   32.204208\n",
       "std      0.486592    0.836071   14.526497    1.102743    0.806057   49.693429\n",
       "min      0.000000    1.000000    0.420000    0.000000    0.000000    0.000000\n",
       "25%      0.000000    2.000000   20.125000    0.000000    0.000000    7.910400\n",
       "50%      0.000000    3.000000   28.000000    0.000000    0.000000   14.454200\n",
       "75%      1.000000    3.000000   38.000000    1.000000    0.000000   31.000000\n",
       "max      1.000000    3.000000   80.000000    8.000000    6.000000  512.329200"
      ]
     },
     "execution_count": 577,
     "metadata": {},
     "output_type": "execute_result"
    }
   ],
   "source": [
    "# procédons à une analyse stat\n",
    "# appliquons la fonction describe\n",
    "titanic.describe() # pour inclure toutes les variable, ajouter l'argument : include = 'all'"
   ]
  },
  {
   "cell_type": "markdown",
   "id": "d48129aa-6996-47f0-a379-4982592a3963",
   "metadata": {},
   "source": [
    "##### 1- taitement des valeurs manquantes"
   ]
  },
  {
   "cell_type": "code",
   "execution_count": 582,
   "id": "8c29e335-a6f9-4742-8640-675056f769ee",
   "metadata": {},
   "outputs": [
    {
     "data": {
      "text/plain": [
       "survived         0\n",
       "pclass           0\n",
       "sex              0\n",
       "age            177\n",
       "sibsp            0\n",
       "parch            0\n",
       "fare             0\n",
       "embarked         2\n",
       "class            0\n",
       "who              0\n",
       "adult_male       0\n",
       "deck           688\n",
       "embark_town      2\n",
       "alive            0\n",
       "alone            0\n",
       "dtype: int64"
      ]
     },
     "execution_count": 582,
     "metadata": {},
     "output_type": "execute_result"
    }
   ],
   "source": [
    "# méthode 1 : remplir les valeurs manquantes par d'autres valeurs\n",
    "# déterminer les colonnes où il y a des valeurs manquantes\n",
    "titanic.isna().sum()"
   ]
  },
  {
   "cell_type": "code",
   "execution_count": null,
   "id": "158bf15a-a292-433a-bb77-642b8432770b",
   "metadata": {},
   "outputs": [],
   "source": [
    "# plusieurs méthodes existe selon la stratégie\n",
    "# supprimer les NaN que si le nb de données représent un effectif mnégligeable du jeu de données"
   ]
  },
  {
   "cell_type": "code",
   "execution_count": 583,
   "id": "65d9c607-1c0d-48fb-92f2-97fba6043502",
   "metadata": {},
   "outputs": [],
   "source": [
    "# méthode .fillna() : remplir les valeurs manquantes par des valeurs != ou == 0.is\n",
    "titanic_age = titanic.fillna(value = {'age' : 0})\n",
    "titanic_age.isna().sum()\n",
    "\n",
    "# remplaçons par la moyenne\n",
    "titanic_age = titanic.fillna(value = {'age' : titanic['age'].mean()})"
   ]
  },
  {
   "cell_type": "code",
   "execution_count": 587,
   "id": "cd6271d3-6717-4c73-82a0-1a200c0311fe",
   "metadata": {},
   "outputs": [],
   "source": [
    "# méthode .dropna() : supprimer les lignes ou colonnes contenant les NaN\n",
    "titanic_age_drop = titanic.dropna()"
   ]
  },
  {
   "cell_type": "code",
   "execution_count": 589,
   "id": "5d7205b7-9150-4706-9e93-62edabe4f44c",
   "metadata": {},
   "outputs": [
    {
     "data": {
      "text/plain": [
       "(182, 15)"
      ]
     },
     "execution_count": 589,
     "metadata": {},
     "output_type": "execute_result"
    }
   ],
   "source": [
    "# consulter le reste de la data après suppression de NaN\n",
    "titanic_age_drop.shape"
   ]
  },
  {
   "cell_type": "code",
   "execution_count": null,
   "id": "b1765a36-33d3-474f-adc8-66ad1ab4a1c3",
   "metadata": {},
   "outputs": [],
   "source": [
    "# NB / PAS BON !!! \n",
    "# la suppression des NaN fait perdre plus de 2/3 de l'info du jeu de données"
   ]
  },
  {
   "cell_type": "code",
   "execution_count": 590,
   "id": "ad31abd1-9a2a-4c42-b373-033f4ceb3ee3",
   "metadata": {},
   "outputs": [],
   "source": [
    "# méthode .drop() : supprimer les colonnes contenant les valeurs manquantes\n",
    "# retour sur la ligne --> 582 : pour voir les noms des variables portant les NaN\n",
    "\n",
    "titanic_col_drop = titanic.drop(['age', 'embarked', 'deck', 'embark_town'], \n",
    "                                axis = 1) # axis = 1 : colonne ; 0 : ligne"
   ]
  },
  {
   "cell_type": "code",
   "execution_count": 591,
   "id": "10d84164-4bb4-4042-ac8e-2444ec6929d0",
   "metadata": {},
   "outputs": [
    {
     "data": {
      "text/plain": [
       "Index(['survived', 'pclass', 'sex', 'sibsp', 'parch', 'fare', 'class', 'who',\n",
       "       'adult_male', 'alive', 'alone'],\n",
       "      dtype='object')"
      ]
     },
     "execution_count": 591,
     "metadata": {},
     "output_type": "execute_result"
    }
   ],
   "source": [
    "titanic_col_drop.columns"
   ]
  },
  {
   "cell_type": "code",
   "execution_count": null,
   "id": "a907e54d-90e3-408b-98af-3f7490929357",
   "metadata": {},
   "outputs": [],
   "source": [
    "# méthode .dropna() : pour la suppresion de colonnes sans en mentionner les noms\n",
    "titatic_col_drop = titanic.dropna(axis = 1)"
   ]
  },
  {
   "cell_type": "code",
   "execution_count": 593,
   "id": "968c93b9-0dfa-4fd0-80ba-685a21ea67d7",
   "metadata": {},
   "outputs": [
    {
     "data": {
      "text/plain": [
       "survived      0\n",
       "pclass        0\n",
       "sex           0\n",
       "sibsp         0\n",
       "parch         0\n",
       "fare          0\n",
       "class         0\n",
       "who           0\n",
       "adult_male    0\n",
       "alive         0\n",
       "alone         0\n",
       "dtype: int64"
      ]
     },
     "execution_count": 593,
     "metadata": {},
     "output_type": "execute_result"
    }
   ],
   "source": [
    "# vérification\n",
    "titanic_col_drop.isna().sum()"
   ]
  },
  {
   "cell_type": "code",
   "execution_count": 594,
   "id": "3a0e3403-dd41-4605-9bac-6cae43351a19",
   "metadata": {},
   "outputs": [
    {
     "data": {
      "text/plain": [
       "(891, 11)"
      ]
     },
     "execution_count": 594,
     "metadata": {},
     "output_type": "execute_result"
    }
   ],
   "source": [
    "titanic_col_drop.shape"
   ]
  },
  {
   "cell_type": "code",
   "execution_count": null,
   "id": "2b4cd71e-76a0-401a-ad10-552c94d0b5d9",
   "metadata": {},
   "outputs": [],
   "source": [
    "# on s'est passé de 5 colonnes complètes "
   ]
  },
  {
   "cell_type": "markdown",
   "id": "c29f0db7-ed64-46b0-b1cb-1594b96f9825",
   "metadata": {},
   "source": [
    "##### 2- renommer une colonne"
   ]
  },
  {
   "cell_type": "code",
   "execution_count": 595,
   "id": "8cfe3b63-1c75-4ce9-926d-d93cc044da99",
   "metadata": {},
   "outputs": [],
   "source": [
    "# rappelons la dataset\n",
    "# renommer les colonnes\n",
    "\n",
    "titanic.rename(columns = {'sex' : 'sexe'}, inplace = True)"
   ]
  },
  {
   "cell_type": "markdown",
   "id": "ac000c36-00a8-4207-bc6a-125bd10f7430",
   "metadata": {},
   "source": [
    "##### 3- supprimer les lignes et colonnes"
   ]
  },
  {
   "cell_type": "code",
   "execution_count": null,
   "id": "e075d342-7082-4659-a905-801fb864dab8",
   "metadata": {},
   "outputs": [],
   "source": [
    "# suprimer une ligne d'indice 0 par ex.\n",
    "titanic.drop(0).head() #.head() : optionnel - c'est juste pour l'aficjage immédiat"
   ]
  },
  {
   "cell_type": "code",
   "execution_count": null,
   "id": "913dd771-bce3-4cf8-8a3f-5d961fa636c8",
   "metadata": {},
   "outputs": [],
   "source": [
    "# supprimer une colonnes\n",
    "titanic.drop('age', axis = 1).head()\n",
    "\n",
    "# supprimer plus d'une colonne\n",
    "titanic.drop(['drop', 'parch'], axis = 1)"
   ]
  },
  {
   "cell_type": "markdown",
   "id": "ee4c7fce-2b2a-484b-90ba-ad7cc09244ce",
   "metadata": {},
   "source": [
    "##### 4- aggrégation"
   ]
  },
  {
   "cell_type": "code",
   "execution_count": 606,
   "id": "39d2068d-4f6c-45e7-bf3e-1bdb07c770eb",
   "metadata": {},
   "outputs": [
    {
     "data": {
      "text/html": [
       "<div>\n",
       "<style scoped>\n",
       "    .dataframe tbody tr th:only-of-type {\n",
       "        vertical-align: middle;\n",
       "    }\n",
       "\n",
       "    .dataframe tbody tr th {\n",
       "        vertical-align: top;\n",
       "    }\n",
       "\n",
       "    .dataframe thead th {\n",
       "        text-align: right;\n",
       "    }\n",
       "</style>\n",
       "<table border=\"1\" class=\"dataframe\">\n",
       "  <thead>\n",
       "    <tr style=\"text-align: right;\">\n",
       "      <th></th>\n",
       "      <th>mean</th>\n",
       "      <th>count</th>\n",
       "    </tr>\n",
       "    <tr>\n",
       "      <th>pclass</th>\n",
       "      <th></th>\n",
       "      <th></th>\n",
       "    </tr>\n",
       "  </thead>\n",
       "  <tbody>\n",
       "    <tr>\n",
       "      <th>1</th>\n",
       "      <td>38.0</td>\n",
       "      <td>186</td>\n",
       "    </tr>\n",
       "    <tr>\n",
       "      <th>2</th>\n",
       "      <td>30.0</td>\n",
       "      <td>173</td>\n",
       "    </tr>\n",
       "    <tr>\n",
       "      <th>3</th>\n",
       "      <td>25.0</td>\n",
       "      <td>355</td>\n",
       "    </tr>\n",
       "  </tbody>\n",
       "</table>\n",
       "</div>"
      ],
      "text/plain": [
       "        mean  count\n",
       "pclass             \n",
       "1       38.0    186\n",
       "2       30.0    173\n",
       "3       25.0    355"
      ]
     },
     "execution_count": 606,
     "metadata": {},
     "output_type": "execute_result"
    }
   ],
   "source": [
    "# un exemple\n",
    "round(titanic.groupby('pclass')['age'].agg(['mean', 'count']))"
   ]
  },
  {
   "cell_type": "code",
   "execution_count": 609,
   "id": "5d796567-852f-495d-8b52-90abdb179246",
   "metadata": {},
   "outputs": [
    {
     "data": {
      "text/plain": [
       "pclass  sexe  \n",
       "1       female    34.611765\n",
       "        male      41.281386\n",
       "2       female    28.722973\n",
       "        male      30.740707\n",
       "3       female    21.750000\n",
       "        male      26.507589\n",
       "Name: age, dtype: float64"
      ]
     },
     "execution_count": 609,
     "metadata": {},
     "output_type": "execute_result"
    }
   ],
   "source": [
    "# regouper sur 2 variables\n",
    "titanic.groupby(['pclass', 'sexe'])['age'].mean()"
   ]
  },
  {
   "cell_type": "code",
   "execution_count": null,
   "id": "0423dc64-78e8-4a84-9bfd-809e1cae122c",
   "metadata": {},
   "outputs": [],
   "source": [
    "## Exercice d'applicaton : analyse caractérisque d'une data voiture"
   ]
  },
  {
   "cell_type": "code",
   "execution_count": null,
   "id": "be4148ac-bb51-4bc9-bc49-cd0fc0c2eba3",
   "metadata": {},
   "outputs": [],
   "source": [
    "# lien du fichier de données --> sur github\n",
    "file = 'https://github.com/Hiver33/basics-python-courses/blob/main/FuelConsumptionCo2.csv'"
   ]
  },
  {
   "cell_type": "code",
   "execution_count": null,
   "id": "901fe905-681b-461e-8425-2380f6abc3b5",
   "metadata": {},
   "outputs": [],
   "source": [
    "# importer les libraires nécessaires"
   ]
  },
  {
   "cell_type": "code",
   "execution_count": null,
   "id": "ec6b287f-4359-4027-960a-a0fa291af1b9",
   "metadata": {},
   "outputs": [],
   "source": [
    "# importer le fichier de données"
   ]
  },
  {
   "cell_type": "code",
   "execution_count": null,
   "id": "05a2208c-39fe-4f4b-b6bb-edb119a24cb3",
   "metadata": {},
   "outputs": [],
   "source": [
    "# consulter la data"
   ]
  },
  {
   "cell_type": "code",
   "execution_count": null,
   "id": "571972e3-215a-4019-a27d-64b2c3fac4c2",
   "metadata": {},
   "outputs": [],
   "source": [
    "# consulter l'info de la data - visualiser le type de données des variables"
   ]
  },
  {
   "cell_type": "code",
   "execution_count": null,
   "id": "5750ade8-1ba7-4515-a8cf-a5abd965a3ea",
   "metadata": {},
   "outputs": [],
   "source": [
    "# résumé statistique de la data"
   ]
  },
  {
   "cell_type": "code",
   "execution_count": null,
   "id": "bcb7365f-8d1e-4be2-9ed6-87b33c0ac589",
   "metadata": {},
   "outputs": [],
   "source": [
    "# déterminer les valeurs distincs des variables modales"
   ]
  },
  {
   "cell_type": "code",
   "execution_count": null,
   "id": "8832238e-48a4-475d-a588-ddbc1c15f67d",
   "metadata": {},
   "outputs": [],
   "source": [
    "# créer une dataframe X composée de variables : \n",
    "# 'enginesize', 'fuelconsumption_city', fuelconsupmtion_hwy', 'fuelconsumption_comb', 'cylinders'"
   ]
  },
  {
   "cell_type": "code",
   "execution_count": null,
   "id": "5a777683-9f56-4258-9be5-7211156eaeec",
   "metadata": {},
   "outputs": [],
   "source": [
    "# nommer 'y' la variable co2emissions de la data"
   ]
  },
  {
   "cell_type": "code",
   "execution_count": null,
   "id": "a26f85d0-1d86-4652-b5c0-6d2cf83a9b45",
   "metadata": {},
   "outputs": [],
   "source": [
    "# créer un tableau d'aggrégation\n",
    "# 1 - calculer la stat moyenne sur 'enginesize' groupée par 'vehicleclass'"
   ]
  },
  {
   "cell_type": "code",
   "execution_count": null,
   "id": "bc0e3c37-b49e-4803-a6f6-66f8672cde48",
   "metadata": {},
   "outputs": [],
   "source": [
    "# 2 - calculer la stat moyenne sur'enginesize' et 'fuelconsumption_city' groupée par 'make' et 'cynlenders'"
   ]
  },
  {
   "cell_type": "code",
   "execution_count": null,
   "id": "9dd5dc1a-382d-4f4d-adc0-0253961a6d29",
   "metadata": {},
   "outputs": [],
   "source": [
    "# 3 - calculer la stat moyenne, min et max de 'co2emission' groupée par 'make'et 'cynlenders'"
   ]
  }
 ],
 "metadata": {
  "kernelspec": {
   "display_name": "Python 3 (ipykernel)",
   "language": "python",
   "name": "python3"
  },
  "language_info": {
   "codemirror_mode": {
    "name": "ipython",
    "version": 3
   },
   "file_extension": ".py",
   "mimetype": "text/x-python",
   "name": "python",
   "nbconvert_exporter": "python",
   "pygments_lexer": "ipython3",
   "version": "3.12.7"
  }
 },
 "nbformat": 4,
 "nbformat_minor": 5
}
